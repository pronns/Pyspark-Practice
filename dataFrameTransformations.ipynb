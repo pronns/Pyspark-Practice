{
 "cells": [
  {
   "cell_type": "code",
   "execution_count": 1,
   "metadata": {},
   "outputs": [],
   "source": [
    "from pyspark.sql import SparkSession\n",
    "from pyspark.sql.functions import *\n",
    "from pyspark.sql.types import *"
   ]
  },
  {
   "cell_type": "code",
   "execution_count": 2,
   "metadata": {},
   "outputs": [],
   "source": [
    "spark = SparkSession.builder.appName(\"ReadCSV\").getOrCreate()\n"
   ]
  },
  {
   "cell_type": "code",
   "execution_count": 6,
   "metadata": {},
   "outputs": [
    {
     "name": "stdout",
     "output_type": "stream",
     "text": [
      "+------+------------+-----------+-------+---------+------+-----------+--------+-------+--------+--------+--------+--------+\n",
      "|Number|     Digimon|      Stage|   Type|Attribute|Memory|Equip Slots|Lv 50 HP|Lv50 SP|Lv50 Atk|Lv50 Def|Lv50 Int|Lv50 Spd|\n",
      "+------+------------+-----------+-------+---------+------+-----------+--------+-------+--------+--------+--------+--------+\n",
      "|     1|     Kuramon|       Baby|   Free|  Neutral|     2|          0|     590|     77|      79|      69|      68|      95|\n",
      "|     2|     Pabumon|       Baby|   Free|  Neutral|     2|          0|     950|     62|      76|      76|      69|      68|\n",
      "|     3|     Punimon|       Baby|   Free|  Neutral|     2|          0|     870|     50|      97|      87|      50|      75|\n",
      "|     4|     Botamon|       Baby|   Free|  Neutral|     2|          0|     690|     68|      77|      95|      76|      61|\n",
      "|     5|     Poyomon|       Baby|   Free|  Neutral|     2|          0|     540|     98|      54|      59|      95|      86|\n",
      "|     6|     Koromon|In-Training|   Free|     Fire|     3|          0|     940|     52|     109|      93|      52|      76|\n",
      "|     7|     Tanemon|In-Training|   Free|    Plant|     3|          0|    1030|     64|      85|      82|      73|      69|\n",
      "|     8|    Tsunomon|In-Training|   Free|    Earth|     3|          0|     930|     54|     107|      92|      54|      76|\n",
      "|     9|    Tsumemon|In-Training|   Free|     Dark|     3|          0|     930|     64|     108|      64|      54|      93|\n",
      "|    10|     Tokomon|In-Training|   Free|  Neutral|     3|          0|     640|     86|      76|      74|      74|     103|\n",
      "|    11|    Nyaromon|In-Training|   Free|    Light|     3|          0|     540|    107|      54|      64|     103|      94|\n",
      "|    12|     Pagumon|In-Training|   Free|     Dark|     3|          0|     550|    103|      60|      63|     102|      93|\n",
      "|    13|     Yokomon|In-Training|   Free|    Plant|     3|          0|    1040|     64|      82|      82|      75|      69|\n",
      "|    14|     Bukamon|In-Training|   Free|    Water|     3|          0|     830|     93|      54|      74|     103|      69|\n",
      "|    15|     Motimon|In-Training|   Free|  Neutral|     3|          0|    1030|     63|      82|      81|      78|      69|\n",
      "|    16|    Wanyamon|In-Training|   Free|     Wind|     3|          0|     830|     82|      79|      75|      75|      82|\n",
      "|    17|      Agumon|     Rookie|Vaccine|     Fire|     5|          1|    1030|     59|     131|     103|      54|      86|\n",
      "|    18|Agumon (Blk)|     Rookie|  Virus|     Fire|     5|          1|    1020|     56|     124|     108|      56|      85|\n",
      "|    19|Armadillomon|     Rookie|   Free|    Earth|     4|          1|    1160|     85|      67|     111|      65|      72|\n",
      "|    20|      Impmon|     Rookie|  Virus|     Dark|     5|          1|     530|    114|      83|      65|     114|     102|\n",
      "+------+------------+-----------+-------+---------+------+-----------+--------+-------+--------+--------+--------+--------+\n",
      "only showing top 20 rows\n",
      "\n"
     ]
    }
   ],
   "source": [
    "df = spark.read.csv(\"/data/DigiDB_digimonlist.csv\", header=True, inferSchema=True)\n",
    "df.show()"
   ]
  },
  {
   "cell_type": "code",
   "execution_count": 7,
   "metadata": {},
   "outputs": [
    {
     "name": "stdout",
     "output_type": "stream",
     "text": [
      "root\n",
      " |-- Number: integer (nullable = true)\n",
      " |-- Digimon: string (nullable = true)\n",
      " |-- Stage: string (nullable = true)\n",
      " |-- Type: string (nullable = true)\n",
      " |-- Attribute: string (nullable = true)\n",
      " |-- Memory: integer (nullable = true)\n",
      " |-- Equip Slots: integer (nullable = true)\n",
      " |-- Lv 50 HP: integer (nullable = true)\n",
      " |-- Lv50 SP: integer (nullable = true)\n",
      " |-- Lv50 Atk: integer (nullable = true)\n",
      " |-- Lv50 Def: integer (nullable = true)\n",
      " |-- Lv50 Int: integer (nullable = true)\n",
      " |-- Lv50 Spd: integer (nullable = true)\n",
      "\n"
     ]
    }
   ],
   "source": [
    "df.printSchema()"
   ]
  },
  {
   "cell_type": "code",
   "execution_count": 9,
   "metadata": {},
   "outputs": [
    {
     "name": "stdout",
     "output_type": "stream",
     "text": [
      "+---+------------+-----------+-------+\n",
      "| id|     Digimon|      Stage|   Type|\n",
      "+---+------------+-----------+-------+\n",
      "|  1|     Kuramon|       Baby|   Free|\n",
      "|  2|     Pabumon|       Baby|   Free|\n",
      "|  3|     Punimon|       Baby|   Free|\n",
      "|  4|     Botamon|       Baby|   Free|\n",
      "|  5|     Poyomon|       Baby|   Free|\n",
      "|  6|     Koromon|In-Training|   Free|\n",
      "|  7|     Tanemon|In-Training|   Free|\n",
      "|  8|    Tsunomon|In-Training|   Free|\n",
      "|  9|    Tsumemon|In-Training|   Free|\n",
      "| 10|     Tokomon|In-Training|   Free|\n",
      "| 11|    Nyaromon|In-Training|   Free|\n",
      "| 12|     Pagumon|In-Training|   Free|\n",
      "| 13|     Yokomon|In-Training|   Free|\n",
      "| 14|     Bukamon|In-Training|   Free|\n",
      "| 15|     Motimon|In-Training|   Free|\n",
      "| 16|    Wanyamon|In-Training|   Free|\n",
      "| 17|      Agumon|     Rookie|Vaccine|\n",
      "| 18|Agumon (Blk)|     Rookie|  Virus|\n",
      "| 19|Armadillomon|     Rookie|   Free|\n",
      "| 20|      Impmon|     Rookie|  Virus|\n",
      "+---+------------+-----------+-------+\n",
      "only showing top 20 rows\n",
      "\n"
     ]
    }
   ],
   "source": [
    "df.select(col(\"Number\").alias(\"id\"),\"Digimon\",df[\"Stage\"],df.Type).show()"
   ]
  },
  {
   "cell_type": "code",
   "execution_count": 11,
   "metadata": {},
   "outputs": [
    {
     "name": "stdout",
     "output_type": "stream",
     "text": [
      "+------+------------+-----------+----+---------+------+-----------+--------+-------+--------+--------+--------+--------+\n",
      "|Number|     Digimon|      Stage|Type|Attribute|Memory|Equip Slots|Lv 50 HP|Lv50 SP|Lv50 Atk|Lv50 Def|Lv50 Int|Lv50 Spd|\n",
      "+------+------------+-----------+----+---------+------+-----------+--------+-------+--------+--------+--------+--------+\n",
      "|     1|     Kuramon|       Baby|Free|  Neutral|     2|          0|     590|     77|      79|      69|      68|      95|\n",
      "|     2|     Pabumon|       Baby|Free|  Neutral|     2|          0|     950|     62|      76|      76|      69|      68|\n",
      "|     3|     Punimon|       Baby|Free|  Neutral|     2|          0|     870|     50|      97|      87|      50|      75|\n",
      "|     4|     Botamon|       Baby|Free|  Neutral|     2|          0|     690|     68|      77|      95|      76|      61|\n",
      "|     5|     Poyomon|       Baby|Free|  Neutral|     2|          0|     540|     98|      54|      59|      95|      86|\n",
      "|     6|     Koromon|In-Training|Free|     Fire|     3|          0|     940|     52|     109|      93|      52|      76|\n",
      "|     7|     Tanemon|In-Training|Free|    Plant|     3|          0|    1030|     64|      85|      82|      73|      69|\n",
      "|     8|    Tsunomon|In-Training|Free|    Earth|     3|          0|     930|     54|     107|      92|      54|      76|\n",
      "|     9|    Tsumemon|In-Training|Free|     Dark|     3|          0|     930|     64|     108|      64|      54|      93|\n",
      "|    10|     Tokomon|In-Training|Free|  Neutral|     3|          0|     640|     86|      76|      74|      74|     103|\n",
      "|    11|    Nyaromon|In-Training|Free|    Light|     3|          0|     540|    107|      54|      64|     103|      94|\n",
      "|    12|     Pagumon|In-Training|Free|     Dark|     3|          0|     550|    103|      60|      63|     102|      93|\n",
      "|    13|     Yokomon|In-Training|Free|    Plant|     3|          0|    1040|     64|      82|      82|      75|      69|\n",
      "|    14|     Bukamon|In-Training|Free|    Water|     3|          0|     830|     93|      54|      74|     103|      69|\n",
      "|    15|     Motimon|In-Training|Free|  Neutral|     3|          0|    1030|     63|      82|      81|      78|      69|\n",
      "|    16|    Wanyamon|In-Training|Free|     Wind|     3|          0|     830|     82|      79|      75|      75|      82|\n",
      "|    19|Armadillomon|     Rookie|Free|    Earth|     4|          1|    1160|     85|      67|     111|      65|      72|\n",
      "|    29|     Keramon|     Rookie|Free|     Dark|     5|          1|    1030|     74|     123|      69|      61|     101|\n",
      "|    46|      Veemon|     Rookie|Free|  Neutral|     5|          1|    1040|     74|     130|      74|      53|     101|\n",
      "|    49|     Hawkmon|     Rookie|Free|     Wind|     5|          1|     690|     88|      99|      79|      83|     114|\n",
      "+------+------------+-----------+----+---------+------+-----------+--------+-------+--------+--------+--------+--------+\n",
      "only showing top 20 rows\n",
      "\n"
     ]
    }
   ],
   "source": [
    "df.filter(col(\"Type\")==\"Free\").show()"
   ]
  },
  {
   "cell_type": "code",
   "execution_count": 12,
   "metadata": {},
   "outputs": [
    {
     "name": "stdout",
     "output_type": "stream",
     "text": [
      "+------+------------+-----------+----+---------+------+-----------+--------+-------+--------+--------+--------+--------+\n",
      "|Number|     Digimon|      Stage|Type|Attribute|Memory|Equip Slots|Lv 50 HP|Lv50 SP|Lv50 Atk|Lv50 Def|Lv50 Int|Lv50 Spd|\n",
      "+------+------------+-----------+----+---------+------+-----------+--------+-------+--------+--------+--------+--------+\n",
      "|     1|     Kuramon|       Baby|Free|  Neutral|     2|          0|     590|     77|      79|      69|      68|      95|\n",
      "|     2|     Pabumon|       Baby|Free|  Neutral|     2|          0|     950|     62|      76|      76|      69|      68|\n",
      "|     3|     Punimon|       Baby|Free|  Neutral|     2|          0|     870|     50|      97|      87|      50|      75|\n",
      "|     4|     Botamon|       Baby|Free|  Neutral|     2|          0|     690|     68|      77|      95|      76|      61|\n",
      "|     5|     Poyomon|       Baby|Free|  Neutral|     2|          0|     540|     98|      54|      59|      95|      86|\n",
      "|     6|     Koromon|In-Training|Free|     Fire|     3|          0|     940|     52|     109|      93|      52|      76|\n",
      "|     7|     Tanemon|In-Training|Free|    Plant|     3|          0|    1030|     64|      85|      82|      73|      69|\n",
      "|     8|    Tsunomon|In-Training|Free|    Earth|     3|          0|     930|     54|     107|      92|      54|      76|\n",
      "|     9|    Tsumemon|In-Training|Free|     Dark|     3|          0|     930|     64|     108|      64|      54|      93|\n",
      "|    10|     Tokomon|In-Training|Free|  Neutral|     3|          0|     640|     86|      76|      74|      74|     103|\n",
      "|    11|    Nyaromon|In-Training|Free|    Light|     3|          0|     540|    107|      54|      64|     103|      94|\n",
      "|    12|     Pagumon|In-Training|Free|     Dark|     3|          0|     550|    103|      60|      63|     102|      93|\n",
      "|    13|     Yokomon|In-Training|Free|    Plant|     3|          0|    1040|     64|      82|      82|      75|      69|\n",
      "|    14|     Bukamon|In-Training|Free|    Water|     3|          0|     830|     93|      54|      74|     103|      69|\n",
      "|    15|     Motimon|In-Training|Free|  Neutral|     3|          0|    1030|     63|      82|      81|      78|      69|\n",
      "|    16|    Wanyamon|In-Training|Free|     Wind|     3|          0|     830|     82|      79|      75|      75|      82|\n",
      "|    19|Armadillomon|     Rookie|Free|    Earth|     4|          1|    1160|     85|      67|     111|      65|      72|\n",
      "|    29|     Keramon|     Rookie|Free|     Dark|     5|          1|    1030|     74|     123|      69|      61|     101|\n",
      "|    46|      Veemon|     Rookie|Free|  Neutral|     5|          1|    1040|     74|     130|      74|      53|     101|\n",
      "|    49|     Hawkmon|     Rookie|Free|     Wind|     5|          1|     690|     88|      99|      79|      83|     114|\n",
      "+------+------------+-----------+----+---------+------+-----------+--------+-------+--------+--------+--------+--------+\n",
      "only showing top 20 rows\n",
      "\n"
     ]
    }
   ],
   "source": [
    "df.where(col(\"Type\")==\"Free\").show()"
   ]
  },
  {
   "cell_type": "code",
   "execution_count": 14,
   "metadata": {},
   "outputs": [
    {
     "name": "stdout",
     "output_type": "stream",
     "text": [
      "+------+-------+-----------+----+---------+------+-----------+--------+-------+--------+--------+--------+--------+\n",
      "|Number|Digimon|      Stage|Type|Attribute|Memory|Equip Slots|Lv 50 HP|Lv50 SP|Lv50 Atk|Lv50 Def|Lv50 Int|Lv50 Spd|\n",
      "+------+-------+-----------+----+---------+------+-----------+--------+-------+--------+--------+--------+--------+\n",
      "|    14|Bukamon|In-Training|Free|    Water|     3|          0|     830|     93|      54|      74|     103|      69|\n",
      "|   172|Vikemon|       Mega|Free|    Water|    18|          3|    1780|    105|     158|     143|     129|     133|\n",
      "+------+-------+-----------+----+---------+------+-----------+--------+-------+--------+--------+--------+--------+\n",
      "\n"
     ]
    }
   ],
   "source": [
    "df.filter((col(\"Type\")==\"Free\") & (col(\"Attribute\")==\"Water\")).show()"
   ]
  },
  {
   "cell_type": "code",
   "execution_count": 16,
   "metadata": {},
   "outputs": [
    {
     "name": "stdout",
     "output_type": "stream",
     "text": [
      "+------+------------+-----------+-------+---------+------+-----------+--------+-------+--------+--------+--------+--------+---------+\n",
      "|Number|     Digimon|      Stage|   Type|Attribute|Memory|Equip Slots|Lv 50 HP|Lv50 SP|Lv50 Atk|Lv50 Def|Lv50 Int|Lv50 Spd|last_name|\n",
      "+------+------------+-----------+-------+---------+------+-----------+--------+-------+--------+--------+--------+--------+---------+\n",
      "|     1|     Kuramon|       Baby|   Free|  Neutral|     2|          0|     590|     77|      79|      69|      68|      95|      Num|\n",
      "|     2|     Pabumon|       Baby|   Free|  Neutral|     2|          0|     950|     62|      76|      76|      69|      68|      Num|\n",
      "|     3|     Punimon|       Baby|   Free|  Neutral|     2|          0|     870|     50|      97|      87|      50|      75|      Num|\n",
      "|     4|     Botamon|       Baby|   Free|  Neutral|     2|          0|     690|     68|      77|      95|      76|      61|      Num|\n",
      "|     5|     Poyomon|       Baby|   Free|  Neutral|     2|          0|     540|     98|      54|      59|      95|      86|      Num|\n",
      "|     6|     Koromon|In-Training|   Free|     Fire|     3|          0|     940|     52|     109|      93|      52|      76|      Num|\n",
      "|     7|     Tanemon|In-Training|   Free|    Plant|     3|          0|    1030|     64|      85|      82|      73|      69|      Num|\n",
      "|     8|    Tsunomon|In-Training|   Free|    Earth|     3|          0|     930|     54|     107|      92|      54|      76|      Num|\n",
      "|     9|    Tsumemon|In-Training|   Free|     Dark|     3|          0|     930|     64|     108|      64|      54|      93|      Num|\n",
      "|    10|     Tokomon|In-Training|   Free|  Neutral|     3|          0|     640|     86|      76|      74|      74|     103|      Num|\n",
      "|    11|    Nyaromon|In-Training|   Free|    Light|     3|          0|     540|    107|      54|      64|     103|      94|      Num|\n",
      "|    12|     Pagumon|In-Training|   Free|     Dark|     3|          0|     550|    103|      60|      63|     102|      93|      Num|\n",
      "|    13|     Yokomon|In-Training|   Free|    Plant|     3|          0|    1040|     64|      82|      82|      75|      69|      Num|\n",
      "|    14|     Bukamon|In-Training|   Free|    Water|     3|          0|     830|     93|      54|      74|     103|      69|      Num|\n",
      "|    15|     Motimon|In-Training|   Free|  Neutral|     3|          0|    1030|     63|      82|      81|      78|      69|      Num|\n",
      "|    16|    Wanyamon|In-Training|   Free|     Wind|     3|          0|     830|     82|      79|      75|      75|      82|      Num|\n",
      "|    17|      Agumon|     Rookie|Vaccine|     Fire|     5|          1|    1030|     59|     131|     103|      54|      86|      Num|\n",
      "|    18|Agumon (Blk)|     Rookie|  Virus|     Fire|     5|          1|    1020|     56|     124|     108|      56|      85|      Num|\n",
      "|    19|Armadillomon|     Rookie|   Free|    Earth|     4|          1|    1160|     85|      67|     111|      65|      72|      Num|\n",
      "|    20|      Impmon|     Rookie|  Virus|     Dark|     5|          1|     530|    114|      83|      65|     114|     102|      Num|\n",
      "+------+------------+-----------+-------+---------+------+-----------+--------+-------+--------+--------+--------+--------+---------+\n",
      "only showing top 20 rows\n",
      "\n"
     ]
    }
   ],
   "source": [
    "df.select(\"*\", lit(\"Num\").alias(\"last_name\")).show()"
   ]
  },
  {
   "cell_type": "code",
   "execution_count": 18,
   "metadata": {},
   "outputs": [
    {
     "name": "stdout",
     "output_type": "stream",
     "text": [
      "+------+------------+-----------+-------+---------+------+-----------+--------+-------+--------+--------+--------+--------+---+\n",
      "|Number|     Digimon|      Stage|   Type|Attribute|Memory|Equip Slots|Lv 50 HP|Lv50 SP|Lv50 Atk|Lv50 Def|Lv50 Int|Lv50 Spd| id|\n",
      "+------+------------+-----------+-------+---------+------+-----------+--------+-------+--------+--------+--------+--------+---+\n",
      "|     1|     Kuramon|       Baby|   Free|  Neutral|     2|          0|     590|     77|      79|      69|      68|      95| 55|\n",
      "|     2|     Pabumon|       Baby|   Free|  Neutral|     2|          0|     950|     62|      76|      76|      69|      68| 55|\n",
      "|     3|     Punimon|       Baby|   Free|  Neutral|     2|          0|     870|     50|      97|      87|      50|      75| 55|\n",
      "|     4|     Botamon|       Baby|   Free|  Neutral|     2|          0|     690|     68|      77|      95|      76|      61| 55|\n",
      "|     5|     Poyomon|       Baby|   Free|  Neutral|     2|          0|     540|     98|      54|      59|      95|      86| 55|\n",
      "|     6|     Koromon|In-Training|   Free|     Fire|     3|          0|     940|     52|     109|      93|      52|      76| 55|\n",
      "|     7|     Tanemon|In-Training|   Free|    Plant|     3|          0|    1030|     64|      85|      82|      73|      69| 55|\n",
      "|     8|    Tsunomon|In-Training|   Free|    Earth|     3|          0|     930|     54|     107|      92|      54|      76| 55|\n",
      "|     9|    Tsumemon|In-Training|   Free|     Dark|     3|          0|     930|     64|     108|      64|      54|      93| 55|\n",
      "|    10|     Tokomon|In-Training|   Free|  Neutral|     3|          0|     640|     86|      76|      74|      74|     103| 55|\n",
      "|    11|    Nyaromon|In-Training|   Free|    Light|     3|          0|     540|    107|      54|      64|     103|      94| 55|\n",
      "|    12|     Pagumon|In-Training|   Free|     Dark|     3|          0|     550|    103|      60|      63|     102|      93| 55|\n",
      "|    13|     Yokomon|In-Training|   Free|    Plant|     3|          0|    1040|     64|      82|      82|      75|      69| 55|\n",
      "|    14|     Bukamon|In-Training|   Free|    Water|     3|          0|     830|     93|      54|      74|     103|      69| 55|\n",
      "|    15|     Motimon|In-Training|   Free|  Neutral|     3|          0|    1030|     63|      82|      81|      78|      69| 55|\n",
      "|    16|    Wanyamon|In-Training|   Free|     Wind|     3|          0|     830|     82|      79|      75|      75|      82| 55|\n",
      "|    17|      Agumon|     Rookie|Vaccine|     Fire|     5|          1|    1030|     59|     131|     103|      54|      86| 55|\n",
      "|    18|Agumon (Blk)|     Rookie|  Virus|     Fire|     5|          1|    1020|     56|     124|     108|      56|      85| 55|\n",
      "|    19|Armadillomon|     Rookie|   Free|    Earth|     4|          1|    1160|     85|      67|     111|      65|      72| 55|\n",
      "|    20|      Impmon|     Rookie|  Virus|     Dark|     5|          1|     530|    114|      83|      65|     114|     102| 55|\n",
      "+------+------------+-----------+-------+---------+------+-----------+--------+-------+--------+--------+--------+--------+---+\n",
      "only showing top 20 rows\n",
      "\n"
     ]
    }
   ],
   "source": [
    "df.withColumn(\"id\",lit(\"55\")).show()"
   ]
  },
  {
   "cell_type": "code",
   "execution_count": 19,
   "metadata": {},
   "outputs": [
    {
     "name": "stdout",
     "output_type": "stream",
     "text": [
      "root\n",
      " |-- Number: integer (nullable = true)\n",
      " |-- Digimon: string (nullable = true)\n",
      " |-- Stage: string (nullable = true)\n",
      " |-- Type: string (nullable = true)\n",
      " |-- Attribute: string (nullable = true)\n",
      " |-- Memory: integer (nullable = true)\n",
      " |-- Equip Slots: integer (nullable = true)\n",
      " |-- Lv 50 HP: integer (nullable = true)\n",
      " |-- Lv50 SP: integer (nullable = true)\n",
      " |-- Lv50 Atk: integer (nullable = true)\n",
      " |-- Lv50 Def: integer (nullable = true)\n",
      " |-- Lv50 Int: integer (nullable = true)\n",
      " |-- Lv50 Spd: integer (nullable = true)\n",
      "\n"
     ]
    }
   ],
   "source": [
    "df.printSchema()"
   ]
  },
  {
   "cell_type": "code",
   "execution_count": 20,
   "metadata": {},
   "outputs": [
    {
     "name": "stdout",
     "output_type": "stream",
     "text": [
      "root\n",
      " |-- Number: string (nullable = true)\n",
      " |-- Digimon: string (nullable = true)\n",
      " |-- Stage: string (nullable = true)\n",
      " |-- Type: string (nullable = true)\n",
      " |-- Attribute: string (nullable = true)\n",
      " |-- Memory: integer (nullable = true)\n",
      " |-- Equip Slots: integer (nullable = true)\n",
      " |-- Lv 50 HP: integer (nullable = true)\n",
      " |-- Lv50 SP: integer (nullable = true)\n",
      " |-- Lv50 Atk: integer (nullable = true)\n",
      " |-- Lv50 Def: integer (nullable = true)\n",
      " |-- Lv50 Int: integer (nullable = true)\n",
      " |-- Lv50 Spd: integer (nullable = true)\n",
      "\n"
     ]
    }
   ],
   "source": [
    "df.withColumn(\"Number\",col(\"Number\").cast(\"string\")).printSchema()"
   ]
  },
  {
   "cell_type": "code",
   "execution_count": 23,
   "metadata": {},
   "outputs": [
    {
     "name": "stdout",
     "output_type": "stream",
     "text": [
      "+------+------------+-----------+-------+---------+------+-----------+--------+-------+--------+--------+--------+--------+\n",
      "|Number|     Digimon|      Stage|   Type|Attribute|Memory|Equip Slots|Lv 50 HP|Lv50 SP|Lv50 Atk|Lv50 Def|Lv50 Int|Lv50 Spd|\n",
      "+------+------------+-----------+-------+---------+------+-----------+--------+-------+--------+--------+--------+--------+\n",
      "|     1|     Kuramon|       Baby|   Free|  Neutral|     2|          0|     590|     77|      79|      69|      68|      95|\n",
      "|     2|     Pabumon|       Baby|   Free|  Neutral|     2|          0|     950|     62|      76|      76|      69|      68|\n",
      "|     3|     Punimon|       Baby|   Free|  Neutral|     2|          0|     870|     50|      97|      87|      50|      75|\n",
      "|     4|     Botamon|       Baby|   Free|  Neutral|     2|          0|     690|     68|      77|      95|      76|      61|\n",
      "|     5|     Poyomon|       Baby|   Free|  Neutral|     2|          0|     540|     98|      54|      59|      95|      86|\n",
      "|     6|     Koromon|In-Training|   Free|     Fire|     3|          0|     940|     52|     109|      93|      52|      76|\n",
      "|     7|     Tanemon|In-Training|   Free|    Plant|     3|          0|    1030|     64|      85|      82|      73|      69|\n",
      "|     8|    Tsunomon|In-Training|   Free|    Earth|     3|          0|     930|     54|     107|      92|      54|      76|\n",
      "|     9|    Tsumemon|In-Training|   Free|     Dark|     3|          0|     930|     64|     108|      64|      54|      93|\n",
      "|    10|     Tokomon|In-Training|   Free|  Neutral|     3|          0|     640|     86|      76|      74|      74|     103|\n",
      "|    11|    Nyaromon|In-Training|   Free|    Light|     3|          0|     540|    107|      54|      64|     103|      94|\n",
      "|    12|     Pagumon|In-Training|   Free|     Dark|     3|          0|     550|    103|      60|      63|     102|      93|\n",
      "|    13|     Yokomon|In-Training|   Free|    Plant|     3|          0|    1040|     64|      82|      82|      75|      69|\n",
      "|    14|     Bukamon|In-Training|   Free|    Water|     3|          0|     830|     93|      54|      74|     103|      69|\n",
      "|    15|     Motimon|In-Training|   Free|  Neutral|     3|          0|    1030|     63|      82|      81|      78|      69|\n",
      "|    16|    Wanyamon|In-Training|   Free|     Wind|     3|          0|     830|     82|      79|      75|      75|      82|\n",
      "|    17|      Agumon|     Rookie|Vaccine|     Fire|     5|          1|    1030|     59|     131|     103|      54|      86|\n",
      "|    18|Agumon (Blk)|     Rookie|  Virus|     Fire|     5|          1|    1020|     56|     124|     108|      56|      85|\n",
      "|    19|Armadillomon|     Rookie|   Free|    Earth|     4|          1|    1160|     85|      67|     111|      65|      72|\n",
      "|    20|      Impmon|     Rookie|  Virus|     Dark|     5|          1|     530|    114|      83|      65|     114|     102|\n",
      "+------+------------+-----------+-------+---------+------+-----------+--------+-------+--------+--------+--------+--------+\n",
      "only showing top 20 rows\n",
      "\n"
     ]
    }
   ],
   "source": [
    "df.withColumn(\"Number\",col(\"Number\").cast(\"string\"))\\\n",
    ".withColumn(\"Digimon\",col(\"Digimon\").cast(\"string\")).show()"
   ]
  },
  {
   "cell_type": "code",
   "execution_count": null,
   "metadata": {},
   "outputs": [],
   "source": []
  }
 ],
 "metadata": {
  "kernelspec": {
   "display_name": "Python 3 (ipykernel)",
   "language": "python",
   "name": "python3"
  },
  "language_info": {
   "codemirror_mode": {
    "name": "ipython",
    "version": 3
   },
   "file_extension": ".py",
   "mimetype": "text/x-python",
   "name": "python",
   "nbconvert_exporter": "python",
   "pygments_lexer": "ipython3",
   "version": "3.11.6"
  }
 },
 "nbformat": 4,
 "nbformat_minor": 2
}
