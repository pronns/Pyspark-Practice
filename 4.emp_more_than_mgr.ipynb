{
 "cells": [
  {
   "cell_type": "code",
   "execution_count": 1,
   "metadata": {},
   "outputs": [],
   "source": [
    "from pyspark.sql import SparkSession\n",
    "from pyspark.sql.functions import *\n",
    "from pyspark.sql.types import *"
   ]
  },
  {
   "cell_type": "code",
   "execution_count": 2,
   "metadata": {},
   "outputs": [],
   "source": [
    "spark = SparkSession.builder.appName(\"Employees Earning More Than Their Managers\").getOrCreate()"
   ]
  },
  {
   "cell_type": "code",
   "execution_count": 4,
   "metadata": {},
   "outputs": [],
   "source": [
    "employees_schema = StructType([\n",
    "StructField(\"id\", IntegerType(), True),\n",
    "StructField(\"name\", StringType(), True),\n",
    "StructField(\"salary\", IntegerType(), True),\n",
    "StructField(\"managerId\", IntegerType(), True)\n",
    "])\n",
    "\n",
    "employees_data = [\n",
    "(1, 'Joe', 70000, 3),\n",
    "(2, 'Henry', 80000, 4),\n",
    "(3, 'Sam', 60000, None),\n",
    "(4, 'Max', 90000, None)\n",
    "]"
   ]
  },
  {
   "cell_type": "code",
   "execution_count": 6,
   "metadata": {},
   "outputs": [
    {
     "name": "stdout",
     "output_type": "stream",
     "text": [
      "+---+-----+------+---------+\n",
      "| id| name|salary|managerId|\n",
      "+---+-----+------+---------+\n",
      "|  1|  Joe| 70000|        3|\n",
      "|  2|Henry| 80000|        4|\n",
      "|  3|  Sam| 60000|     NULL|\n",
      "|  4|  Max| 90000|     NULL|\n",
      "+---+-----+------+---------+\n",
      "\n"
     ]
    }
   ],
   "source": [
    "df = spark.createDataFrame(data=employees_data, schema=employees_schema)\n",
    "df.show()"
   ]
  },
  {
   "cell_type": "code",
   "execution_count": 20,
   "metadata": {},
   "outputs": [
    {
     "name": "stdout",
     "output_type": "stream",
     "text": [
      "+----+\n",
      "|name|\n",
      "+----+\n",
      "| Joe|\n",
      "+----+\n",
      "\n"
     ]
    }
   ],
   "source": [
    "emp1 = df.alias(\"e1\")\n",
    "emp2 = df.alias(\"e2\")\n",
    "\n",
    "joined_df = emp1.join(emp2, col(\"e1.id\") == col(\"e2.managerId\"), \"inner\").select(\"e2.name\",\"e2.salary\",col(\"e1.salary\").alias(\"manager_salary\"))\n",
    "joined_df.filter(col(\"e2.salary\") > col(\"manager_salary\")).select(\"name\").show()"
   ]
  },
  {
   "cell_type": "code",
   "execution_count": null,
   "metadata": {},
   "outputs": [],
   "source": []
  }
 ],
 "metadata": {
  "kernelspec": {
   "display_name": "Python 3 (ipykernel)",
   "language": "python",
   "name": "python3"
  },
  "language_info": {
   "codemirror_mode": {
    "name": "ipython",
    "version": 3
   },
   "file_extension": ".py",
   "mimetype": "text/x-python",
   "name": "python",
   "nbconvert_exporter": "python",
   "pygments_lexer": "ipython3",
   "version": "3.11.6"
  }
 },
 "nbformat": 4,
 "nbformat_minor": 2
}
