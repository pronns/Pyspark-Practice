{
 "cells": [
  {
   "cell_type": "markdown",
   "metadata": {},
   "source": [
    "Write a pyspark Program for a report that provides the pairs\n",
    "(actor_id, director_id) where the actor has cooperated with\n",
    "the director at least 3 times.  \n",
    "Difficulty - Easy"
   ]
  },
  {
   "cell_type": "code",
   "execution_count": 2,
   "metadata": {},
   "outputs": [],
   "source": [
    "from pyspark.sql import SparkSession\n",
    "from pyspark.sql.types import StructType,StructField,IntegerType\n",
    "spark = SparkSession.builder.appName(\"Actors and Directors\").master(\"local\").getOrCreate()"
   ]
  },
  {
   "cell_type": "code",
   "execution_count": 4,
   "metadata": {},
   "outputs": [],
   "source": [
    "schema = StructType([\n",
    "StructField(\"ActorId\",IntegerType(),True),\n",
    "StructField(\"DirectorId\",IntegerType(),True),\n",
    "StructField(\"timestamp\",IntegerType(),True)\n",
    "])\n",
    "data = [\n",
    "(1, 1, 0),\n",
    "(1, 1, 1),\n",
    "(1, 1, 2),\n",
    "(1, 2, 3),\n",
    "(1, 2, 4),\n",
    "(2, 1, 5),\n",
    "(2, 1, 6)]"
   ]
  },
  {
   "cell_type": "code",
   "execution_count": 5,
   "metadata": {},
   "outputs": [
    {
     "name": "stdout",
     "output_type": "stream",
     "text": [
      "+-------+----------+---------+\n",
      "|ActorId|DirectorId|timestamp|\n",
      "+-------+----------+---------+\n",
      "|      1|         1|        0|\n",
      "|      1|         1|        1|\n",
      "|      1|         1|        2|\n",
      "|      1|         2|        3|\n",
      "|      1|         2|        4|\n",
      "|      2|         1|        5|\n",
      "|      2|         1|        6|\n",
      "+-------+----------+---------+\n",
      "\n"
     ]
    }
   ],
   "source": [
    "df = spark.createDataFrame(data,schema)\n",
    "df.show()"
   ]
  },
  {
   "cell_type": "code",
   "execution_count": 6,
   "metadata": {},
   "outputs": [
    {
     "name": "stdout",
     "output_type": "stream",
     "text": [
      "+-------+----------+-----+\n",
      "|ActorId|DirectorId|count|\n",
      "+-------+----------+-----+\n",
      "|      1|         2|    2|\n",
      "|      1|         1|    3|\n",
      "|      2|         1|    2|\n",
      "+-------+----------+-----+\n",
      "\n"
     ]
    }
   ],
   "source": [
    "df_group = df.groupBy('ActorId','DirectorId').count()\n",
    "df_group.show()"
   ]
  },
  {
   "cell_type": "code",
   "execution_count": 7,
   "metadata": {},
   "outputs": [
    {
     "name": "stdout",
     "output_type": "stream",
     "text": [
      "+-------+----------+-----+\n",
      "|ActorId|DirectorId|count|\n",
      "+-------+----------+-----+\n",
      "|      1|         1|    3|\n",
      "+-------+----------+-----+\n",
      "\n"
     ]
    }
   ],
   "source": [
    "df_group.filter(df_group['count']>=3).show()"
   ]
  },
  {
   "cell_type": "code",
   "execution_count": null,
   "metadata": {},
   "outputs": [],
   "source": []
  }
 ],
 "metadata": {
  "kernelspec": {
   "display_name": "Python 3 (ipykernel)",
   "language": "python",
   "name": "python3"
  },
  "language_info": {
   "codemirror_mode": {
    "name": "ipython",
    "version": 3
   },
   "file_extension": ".py",
   "mimetype": "text/x-python",
   "name": "python",
   "nbconvert_exporter": "python",
   "pygments_lexer": "ipython3",
   "version": "3.11.6"
  }
 },
 "nbformat": 4,
 "nbformat_minor": 2
}
