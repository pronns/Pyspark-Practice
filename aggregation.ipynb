{
 "cells": [
  {
   "cell_type": "code",
   "execution_count": 1,
   "metadata": {},
   "outputs": [],
   "source": [
    "from pyspark.sql import SparkSession\n",
    "from pyspark.sql.functions import *\n",
    "from pyspark.sql.types import *"
   ]
  },
  {
   "cell_type": "code",
   "execution_count": 2,
   "metadata": {},
   "outputs": [],
   "source": [
    "spark = SparkSession.builder.appName(\"aggregation\").getOrCreate()"
   ]
  },
  {
   "cell_type": "code",
   "execution_count": 4,
   "metadata": {},
   "outputs": [],
   "source": [
    "df= spark.read.csv(\"/data/DigiDB_digimonlist.csv\", header=True, inferSchema=True)"
   ]
  },
  {
   "cell_type": "code",
   "execution_count": 5,
   "metadata": {},
   "outputs": [
    {
     "name": "stdout",
     "output_type": "stream",
     "text": [
      "+------+------------+-----------+-------+---------+------+-----------+--------+-------+--------+--------+--------+--------+\n",
      "|Number|     Digimon|      Stage|   Type|Attribute|Memory|Equip Slots|Lv 50 HP|Lv50 SP|Lv50 Atk|Lv50 Def|Lv50 Int|Lv50 Spd|\n",
      "+------+------------+-----------+-------+---------+------+-----------+--------+-------+--------+--------+--------+--------+\n",
      "|     1|     Kuramon|       Baby|   Free|  Neutral|     2|          0|     590|     77|      79|      69|      68|      95|\n",
      "|     2|     Pabumon|       Baby|   Free|  Neutral|     2|          0|     950|     62|      76|      76|      69|      68|\n",
      "|     3|     Punimon|       Baby|   Free|  Neutral|     2|          0|     870|     50|      97|      87|      50|      75|\n",
      "|     4|     Botamon|       Baby|   Free|  Neutral|     2|          0|     690|     68|      77|      95|      76|      61|\n",
      "|     5|     Poyomon|       Baby|   Free|  Neutral|     2|          0|     540|     98|      54|      59|      95|      86|\n",
      "|     6|     Koromon|In-Training|   Free|     Fire|     3|          0|     940|     52|     109|      93|      52|      76|\n",
      "|     7|     Tanemon|In-Training|   Free|    Plant|     3|          0|    1030|     64|      85|      82|      73|      69|\n",
      "|     8|    Tsunomon|In-Training|   Free|    Earth|     3|          0|     930|     54|     107|      92|      54|      76|\n",
      "|     9|    Tsumemon|In-Training|   Free|     Dark|     3|          0|     930|     64|     108|      64|      54|      93|\n",
      "|    10|     Tokomon|In-Training|   Free|  Neutral|     3|          0|     640|     86|      76|      74|      74|     103|\n",
      "|    11|    Nyaromon|In-Training|   Free|    Light|     3|          0|     540|    107|      54|      64|     103|      94|\n",
      "|    12|     Pagumon|In-Training|   Free|     Dark|     3|          0|     550|    103|      60|      63|     102|      93|\n",
      "|    13|     Yokomon|In-Training|   Free|    Plant|     3|          0|    1040|     64|      82|      82|      75|      69|\n",
      "|    14|     Bukamon|In-Training|   Free|    Water|     3|          0|     830|     93|      54|      74|     103|      69|\n",
      "|    15|     Motimon|In-Training|   Free|  Neutral|     3|          0|    1030|     63|      82|      81|      78|      69|\n",
      "|    16|    Wanyamon|In-Training|   Free|     Wind|     3|          0|     830|     82|      79|      75|      75|      82|\n",
      "|    17|      Agumon|     Rookie|Vaccine|     Fire|     5|          1|    1030|     59|     131|     103|      54|      86|\n",
      "|    18|Agumon (Blk)|     Rookie|  Virus|     Fire|     5|          1|    1020|     56|     124|     108|      56|      85|\n",
      "|    19|Armadillomon|     Rookie|   Free|    Earth|     4|          1|    1160|     85|      67|     111|      65|      72|\n",
      "|    20|      Impmon|     Rookie|  Virus|     Dark|     5|          1|     530|    114|      83|      65|     114|     102|\n",
      "+------+------------+-----------+-------+---------+------+-----------+--------+-------+--------+--------+--------+--------+\n",
      "only showing top 20 rows\n",
      "\n"
     ]
    }
   ],
   "source": [
    "df.show()"
   ]
  },
  {
   "cell_type": "code",
   "execution_count": 9,
   "metadata": {},
   "outputs": [
    {
     "name": "stdout",
     "output_type": "stream",
     "text": [
      "+-------------+\n",
      "|Digimon Count|\n",
      "+-------------+\n",
      "|          249|\n",
      "+-------------+\n",
      "\n"
     ]
    }
   ],
   "source": [
    "df.select(count(\"Digimon\").alias(\"Digimon Count\")).show()"
   ]
  },
  {
   "cell_type": "code",
   "execution_count": 11,
   "metadata": {},
   "outputs": [
    {
     "name": "stdout",
     "output_type": "stream",
     "text": [
      "+-----------+-----------+-----------+\n",
      "|sum(Memory)|max(Memory)|min(Memory)|\n",
      "+-----------+-----------+-----------+\n",
      "|       2985|         25|          2|\n",
      "+-----------+-----------+-----------+\n",
      "\n"
     ]
    }
   ],
   "source": [
    "df.select(sum(\"Memory\"),max(\"Memory\"),min(\"Memory\")).show()"
   ]
  },
  {
   "cell_type": "markdown",
   "metadata": {},
   "source": [
    "GROUP BY"
   ]
  },
  {
   "cell_type": "code",
   "execution_count": 12,
   "metadata": {},
   "outputs": [
    {
     "name": "stdout",
     "output_type": "stream",
     "text": [
      "+------+-------+-----+----+---------+------+-----------+--------+-------+--------+--------+--------+--------+\n",
      "|Number|Digimon|Stage|Type|Attribute|Memory|Equip Slots|Lv 50 HP|Lv50 SP|Lv50 Atk|Lv50 Def|Lv50 Int|Lv50 Spd|\n",
      "+------+-------+-----+----+---------+------+-----------+--------+-------+--------+--------+--------+--------+\n",
      "|     1|Kuramon| Baby|Free|  Neutral|     2|          0|     590|     77|      79|      69|      68|      95|\n",
      "|     2|Pabumon| Baby|Free|  Neutral|     2|          0|     950|     62|      76|      76|      69|      68|\n",
      "|     3|Punimon| Baby|Free|  Neutral|     2|          0|     870|     50|      97|      87|      50|      75|\n",
      "|     4|Botamon| Baby|Free|  Neutral|     2|          0|     690|     68|      77|      95|      76|      61|\n",
      "|     5|Poyomon| Baby|Free|  Neutral|     2|          0|     540|     98|      54|      59|      95|      86|\n",
      "+------+-------+-----+----+---------+------+-----------+--------+-------+--------+--------+--------+--------+\n",
      "only showing top 5 rows\n",
      "\n"
     ]
    }
   ],
   "source": [
    "df.show(5)"
   ]
  },
  {
   "cell_type": "code",
   "execution_count": 23,
   "metadata": {},
   "outputs": [
    {
     "name": "stdout",
     "output_type": "stream",
     "text": [
      "+-----------+--------+\n",
      "|      Stage|Total HP|\n",
      "+-----------+--------+\n",
      "|      Armor|    3510|\n",
      "|       Baby|    3640|\n",
      "|      Ultra|    9050|\n",
      "|In-Training|    9290|\n",
      "|     Rookie|   34980|\n",
      "|   Champion|   58700|\n",
      "|   Ultimate|   74640|\n",
      "|       Mega|  107700|\n",
      "+-----------+--------+\n",
      "\n"
     ]
    }
   ],
   "source": [
    "df.groupBy(\"Stage\").agg(sum(col(\"Lv 50 HP\")).alias(\"Total HP\")).orderBy(col(\"Total HP\")).show()"
   ]
  },
  {
   "cell_type": "code",
   "execution_count": null,
   "metadata": {},
   "outputs": [],
   "source": []
  }
 ],
 "metadata": {
  "kernelspec": {
   "display_name": "Python 3 (ipykernel)",
   "language": "python",
   "name": "python3"
  },
  "language_info": {
   "codemirror_mode": {
    "name": "ipython",
    "version": 3
   },
   "file_extension": ".py",
   "mimetype": "text/x-python",
   "name": "python",
   "nbconvert_exporter": "python",
   "pygments_lexer": "ipython3",
   "version": "3.11.6"
  }
 },
 "nbformat": 4,
 "nbformat_minor": 2
}
