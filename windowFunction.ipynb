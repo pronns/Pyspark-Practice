{
 "cells": [
  {
   "cell_type": "code",
   "execution_count": 13,
   "metadata": {},
   "outputs": [],
   "source": [
    "from pyspark.sql import SparkSession\n",
    "from pyspark.sql.functions import *\n",
    "from pyspark.sql.types import *\n",
    "from pyspark.sql.window import Window"
   ]
  },
  {
   "cell_type": "code",
   "execution_count": 14,
   "metadata": {},
   "outputs": [],
   "source": [
    "spark = SparkSession.builder.appName(\"Window Functions\").getOrCreate()"
   ]
  },
  {
   "cell_type": "code",
   "execution_count": 15,
   "metadata": {},
   "outputs": [
    {
     "name": "stdout",
     "output_type": "stream",
     "text": [
      "+------+------------+-----------+-------+---------+------+-----------+--------+-------+--------+--------+--------+--------+\n",
      "|Number|     Digimon|      Stage|   Type|Attribute|Memory|Equip Slots|Lv 50 HP|Lv50 SP|Lv50 Atk|Lv50 Def|Lv50 Int|Lv50 Spd|\n",
      "+------+------------+-----------+-------+---------+------+-----------+--------+-------+--------+--------+--------+--------+\n",
      "|     1|     Kuramon|       Baby|   Free|  Neutral|     2|          0|     590|     77|      79|      69|      68|      95|\n",
      "|     2|     Pabumon|       Baby|   Free|  Neutral|     2|          0|     950|     62|      76|      76|      69|      68|\n",
      "|     3|     Punimon|       Baby|   Free|  Neutral|     2|          0|     870|     50|      97|      87|      50|      75|\n",
      "|     4|     Botamon|       Baby|   Free|  Neutral|     2|          0|     690|     68|      77|      95|      76|      61|\n",
      "|     5|     Poyomon|       Baby|   Free|  Neutral|     2|          0|     540|     98|      54|      59|      95|      86|\n",
      "|     6|     Koromon|In-Training|   Free|     Fire|     3|          0|     940|     52|     109|      93|      52|      76|\n",
      "|     7|     Tanemon|In-Training|   Free|    Plant|     3|          0|    1030|     64|      85|      82|      73|      69|\n",
      "|     8|    Tsunomon|In-Training|   Free|    Earth|     3|          0|     930|     54|     107|      92|      54|      76|\n",
      "|     9|    Tsumemon|In-Training|   Free|     Dark|     3|          0|     930|     64|     108|      64|      54|      93|\n",
      "|    10|     Tokomon|In-Training|   Free|  Neutral|     3|          0|     640|     86|      76|      74|      74|     103|\n",
      "|    11|    Nyaromon|In-Training|   Free|    Light|     3|          0|     540|    107|      54|      64|     103|      94|\n",
      "|    12|     Pagumon|In-Training|   Free|     Dark|     3|          0|     550|    103|      60|      63|     102|      93|\n",
      "|    13|     Yokomon|In-Training|   Free|    Plant|     3|          0|    1040|     64|      82|      82|      75|      69|\n",
      "|    14|     Bukamon|In-Training|   Free|    Water|     3|          0|     830|     93|      54|      74|     103|      69|\n",
      "|    15|     Motimon|In-Training|   Free|  Neutral|     3|          0|    1030|     63|      82|      81|      78|      69|\n",
      "|    16|    Wanyamon|In-Training|   Free|     Wind|     3|          0|     830|     82|      79|      75|      75|      82|\n",
      "|    17|      Agumon|     Rookie|Vaccine|     Fire|     5|          1|    1030|     59|     131|     103|      54|      86|\n",
      "|    18|Agumon (Blk)|     Rookie|  Virus|     Fire|     5|          1|    1020|     56|     124|     108|      56|      85|\n",
      "|    19|Armadillomon|     Rookie|   Free|    Earth|     4|          1|    1160|     85|      67|     111|      65|      72|\n",
      "|    20|      Impmon|     Rookie|  Virus|     Dark|     5|          1|     530|    114|      83|      65|     114|     102|\n",
      "+------+------------+-----------+-------+---------+------+-----------+--------+-------+--------+--------+--------+--------+\n",
      "only showing top 20 rows\n",
      "\n"
     ]
    }
   ],
   "source": [
    "df = spark.read.csv(\"/data/DigiDB_digimonlist.csv\", header=True, inferSchema=True)\n",
    "df.show()"
   ]
  },
  {
   "cell_type": "code",
   "execution_count": 17,
   "metadata": {},
   "outputs": [],
   "source": [
    "window = Window.partitionBy(\"Stage\").orderBy(\"Lv 50 HP\")"
   ]
  },
  {
   "cell_type": "code",
   "execution_count": 18,
   "metadata": {},
   "outputs": [
    {
     "name": "stdout",
     "output_type": "stream",
     "text": [
      "+------+----------------+--------+-------+---------+------+-----------+--------+-------+--------+--------+--------+--------+----------+\n",
      "|Number|         Digimon|   Stage|   Type|Attribute|Memory|Equip Slots|Lv 50 HP|Lv50 SP|Lv50 Atk|Lv50 Def|Lv50 Int|Lv50 Spd|row_number|\n",
      "+------+----------------+--------+-------+---------+------+-----------+--------+-------+--------+--------+--------+--------+----------+\n",
      "|   238|     Flamedramon|   Armor|   Free|     Fire|     8|          3|    1130|     93|     119|      99|      89|     138|         1|\n",
      "|   240|Rapidmon (Armor)|   Armor|Vaccine|    Light|    18|          3|    1140|    114|     158|     178|     158|     124|         2|\n",
      "|   239|        Magnamon|   Armor|   Free|    Earth|    22|          2|    1240|    124|     168|     208|     148|     124|         3|\n",
      "|     5|         Poyomon|    Baby|   Free|  Neutral|     2|          0|     540|     98|      54|      59|      95|      86|         1|\n",
      "|     1|         Kuramon|    Baby|   Free|  Neutral|     2|          0|     590|     77|      79|      69|      68|      95|         2|\n",
      "|     4|         Botamon|    Baby|   Free|  Neutral|     2|          0|     690|     68|      77|      95|      76|      61|         3|\n",
      "|     3|         Punimon|    Baby|   Free|  Neutral|     2|          0|     870|     50|      97|      87|      50|      75|         4|\n",
      "|     2|         Pabumon|    Baby|   Free|  Neutral|     2|          0|     950|     62|      76|      76|      69|      68|         5|\n",
      "|    98|         Bakemon|Champion|  Virus|     Dark|     6|          2|     590|    148|      64|      74|     138|     128|         1|\n",
      "|    91|         Gatomon|Champion|Vaccine|    Light|     8|          1|     640|    143|      69|      79|     143|     123|         2|\n",
      "|    59|       Wizardmon|Champion|   Data|     Dark|     8|          1|     690|    138|      74|      79|     143|     118|         3|\n",
      "|   101|    BlackGatomon|Champion|  Virus|     Dark|     8|          1|     690|    133|      84|      84|     133|     118|         4|\n",
      "|    65|        GaoGamon|Champion|   Data|     Wind|     8|          1|     740|    108|     109|      94|      99|     138|         5|\n",
      "|    71|        Kyubimon|Champion|   Data|     Fire|     8|          1|     740|    138|      59|      84|     138|     128|         6|\n",
      "|   103|         Peckmon|Champion|Vaccine|     Wind|     8|          1|     790|    113|     104|      84|      94|     148|         7|\n",
      "|   107|        Reppamon|Champion|Vaccine|    Light|     8|          1|     790|    118|      94|      99|      99|     143|         8|\n",
      "|    56|       Aquilamon|Champion|   Free|     Wind|     8|          1|     840|    108|     109|      89|      89|     143|         9|\n",
      "|    66|     Kabuterimon|Champion|Vaccine|    Plant|     6|          2|     890|     89|     108|     128|     116|      81|        10|\n",
      "|    69|       Garurumon|Champion|Vaccine|     Fire|     8|          1|     890|    108|      99|      94|      94|     138|        11|\n",
      "|    70| Garurumon (Blk)|Champion|  Virus|     Fire|     8|          1|     890|    108|     109|     104|      79|     133|        12|\n",
      "+------+----------------+--------+-------+---------+------+-----------+--------+-------+--------+--------+--------+--------+----------+\n",
      "only showing top 20 rows\n",
      "\n"
     ]
    }
   ],
   "source": [
    "df.withColumn(\"row_number\", row_number().over(window)).show()"
   ]
  },
  {
   "cell_type": "code",
   "execution_count": 19,
   "metadata": {},
   "outputs": [
    {
     "name": "stdout",
     "output_type": "stream",
     "text": [
      "+------+----------------+--------+-------+---------+------+-----------+--------+-------+--------+--------+--------+--------+----+\n",
      "|Number|         Digimon|   Stage|   Type|Attribute|Memory|Equip Slots|Lv 50 HP|Lv50 SP|Lv50 Atk|Lv50 Def|Lv50 Int|Lv50 Spd|rank|\n",
      "+------+----------------+--------+-------+---------+------+-----------+--------+-------+--------+--------+--------+--------+----+\n",
      "|   238|     Flamedramon|   Armor|   Free|     Fire|     8|          3|    1130|     93|     119|      99|      89|     138|   1|\n",
      "|   240|Rapidmon (Armor)|   Armor|Vaccine|    Light|    18|          3|    1140|    114|     158|     178|     158|     124|   2|\n",
      "|   239|        Magnamon|   Armor|   Free|    Earth|    22|          2|    1240|    124|     168|     208|     148|     124|   3|\n",
      "|     5|         Poyomon|    Baby|   Free|  Neutral|     2|          0|     540|     98|      54|      59|      95|      86|   1|\n",
      "|     1|         Kuramon|    Baby|   Free|  Neutral|     2|          0|     590|     77|      79|      69|      68|      95|   2|\n",
      "|     4|         Botamon|    Baby|   Free|  Neutral|     2|          0|     690|     68|      77|      95|      76|      61|   3|\n",
      "|     3|         Punimon|    Baby|   Free|  Neutral|     2|          0|     870|     50|      97|      87|      50|      75|   4|\n",
      "|     2|         Pabumon|    Baby|   Free|  Neutral|     2|          0|     950|     62|      76|      76|      69|      68|   5|\n",
      "|    98|         Bakemon|Champion|  Virus|     Dark|     6|          2|     590|    148|      64|      74|     138|     128|   1|\n",
      "|    91|         Gatomon|Champion|Vaccine|    Light|     8|          1|     640|    143|      69|      79|     143|     123|   2|\n",
      "|    59|       Wizardmon|Champion|   Data|     Dark|     8|          1|     690|    138|      74|      79|     143|     118|   3|\n",
      "|   101|    BlackGatomon|Champion|  Virus|     Dark|     8|          1|     690|    133|      84|      84|     133|     118|   3|\n",
      "|    65|        GaoGamon|Champion|   Data|     Wind|     8|          1|     740|    108|     109|      94|      99|     138|   5|\n",
      "|    71|        Kyubimon|Champion|   Data|     Fire|     8|          1|     740|    138|      59|      84|     138|     128|   5|\n",
      "|   103|         Peckmon|Champion|Vaccine|     Wind|     8|          1|     790|    113|     104|      84|      94|     148|   7|\n",
      "|   107|        Reppamon|Champion|Vaccine|    Light|     8|          1|     790|    118|      94|      99|      99|     143|   7|\n",
      "|    56|       Aquilamon|Champion|   Free|     Wind|     8|          1|     840|    108|     109|      89|      89|     143|   9|\n",
      "|    66|     Kabuterimon|Champion|Vaccine|    Plant|     6|          2|     890|     89|     108|     128|     116|      81|  10|\n",
      "|    69|       Garurumon|Champion|Vaccine|     Fire|     8|          1|     890|    108|      99|      94|      94|     138|  10|\n",
      "|    70| Garurumon (Blk)|Champion|  Virus|     Fire|     8|          1|     890|    108|     109|     104|      79|     133|  10|\n",
      "+------+----------------+--------+-------+---------+------+-----------+--------+-------+--------+--------+--------+--------+----+\n",
      "only showing top 20 rows\n",
      "\n"
     ]
    }
   ],
   "source": [
    "df.withColumn(\"rank\", rank().over(window)).show()"
   ]
  },
  {
   "cell_type": "code",
   "execution_count": null,
   "metadata": {},
   "outputs": [],
   "source": []
  }
 ],
 "metadata": {
  "kernelspec": {
   "display_name": "Python 3 (ipykernel)",
   "language": "python",
   "name": "python3"
  },
  "language_info": {
   "codemirror_mode": {
    "name": "ipython",
    "version": 3
   },
   "file_extension": ".py",
   "mimetype": "text/x-python",
   "name": "python",
   "nbconvert_exporter": "python",
   "pygments_lexer": "ipython3",
   "version": "3.11.6"
  }
 },
 "nbformat": 4,
 "nbformat_minor": 2
}
