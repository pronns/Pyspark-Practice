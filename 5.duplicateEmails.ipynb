{
 "cells": [
  {
   "cell_type": "code",
   "execution_count": 1,
   "metadata": {},
   "outputs": [],
   "source": [
    "from pyspark.sql import SparkSession\n",
    "from pyspark.sql.functions import *\n",
    "from pyspark.sql.types import *"
   ]
  },
  {
   "cell_type": "code",
   "execution_count": 2,
   "metadata": {},
   "outputs": [],
   "source": [
    "spark = SparkSession.builder.appName(\"Duplicate Emails\").getOrCreate()"
   ]
  },
  {
   "cell_type": "markdown",
   "metadata": {},
   "source": [
    "Duplicate Emails\n",
    "Write a Pyspark program to report all the duplicate emails.\n",
    "Note that it's guaranteed that the email field is not NULL.\n",
    "\n",
    "EASY\n",
    "\n",
    "INPUT\n",
    "ID EMAIL\n",
    "1 a@b.com\n",
    "2 c@d.com\n",
    "3 a@b.com\n",
    "\n",
    "OUTPUT\n",
    "EMAIL\n",
    "a@b.com"
   ]
  },
  {
   "cell_type": "code",
   "execution_count": 4,
   "metadata": {},
   "outputs": [
    {
     "name": "stdout",
     "output_type": "stream",
     "text": [
      "+---+-------+\n",
      "| id|  email|\n",
      "+---+-------+\n",
      "|  1|a@b.com|\n",
      "|  2|c@d.com|\n",
      "|  3|a@b.com|\n",
      "+---+-------+\n",
      "\n"
     ]
    }
   ],
   "source": [
    "# Define the schema for the \"emails\" table\n",
    "emails_schema = StructType([\n",
    "StructField(\"id\", IntegerType(), True),\n",
    "StructField(\"email\", StringType(), True)\n",
    "])\n",
    "# Define data for the \"emails\" table\n",
    "emails_data = [\n",
    "(1, 'a@b.com'),\n",
    "(2, 'c@d.com'),\n",
    "(3, 'a@b.com')\n",
    "]\n",
    "\n",
    "df = spark.createDataFrame(emails_data, emails_schema)\n",
    "df.show()"
   ]
  },
  {
   "cell_type": "code",
   "execution_count": 5,
   "metadata": {},
   "outputs": [
    {
     "name": "stdout",
     "output_type": "stream",
     "text": [
      "+-------+-----+\n",
      "|  email|count|\n",
      "+-------+-----+\n",
      "|a@b.com|    2|\n",
      "|c@d.com|    1|\n",
      "+-------+-----+\n",
      "\n"
     ]
    }
   ],
   "source": [
    "df_group = df.groupBy(\"email\").count()\n",
    "df_group.show()"
   ]
  },
  {
   "cell_type": "code",
   "execution_count": 7,
   "metadata": {},
   "outputs": [
    {
     "name": "stdout",
     "output_type": "stream",
     "text": [
      "+-------+-----+\n",
      "|  email|count|\n",
      "+-------+-----+\n",
      "|a@b.com|    2|\n",
      "+-------+-----+\n",
      "\n"
     ]
    }
   ],
   "source": [
    "df_group.filter(\"count > 1\").show()"
   ]
  },
  {
   "cell_type": "code",
   "execution_count": null,
   "metadata": {},
   "outputs": [],
   "source": []
  }
 ],
 "metadata": {
  "kernelspec": {
   "display_name": "Python 3 (ipykernel)",
   "language": "python",
   "name": "python3"
  },
  "language_info": {
   "codemirror_mode": {
    "name": "ipython",
    "version": 3
   },
   "file_extension": ".py",
   "mimetype": "text/x-python",
   "name": "python",
   "nbconvert_exporter": "python",
   "pygments_lexer": "ipython3",
   "version": "3.11.6"
  }
 },
 "nbformat": 4,
 "nbformat_minor": 2
}
