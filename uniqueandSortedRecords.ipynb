{
 "cells": [
  {
   "cell_type": "code",
   "execution_count": 1,
   "metadata": {},
   "outputs": [],
   "source": [
    "from pyspark.sql import SparkSession\n",
    "from pyspark.sql.functions import *\n",
    "from pyspark.sql.types import *"
   ]
  },
  {
   "cell_type": "code",
   "execution_count": 3,
   "metadata": {},
   "outputs": [],
   "source": [
    "spark = SparkSession.builder.appName(\"Unique and Sorted Records\").getOrCreate()"
   ]
  },
  {
   "cell_type": "code",
   "execution_count": 6,
   "metadata": {},
   "outputs": [],
   "source": [
    "data=[(10 ,'Anil',50000, 18),\n",
    "(11 ,'Vikas',75000,  16),\n",
    "(12 ,'Nisha',40000,  18),\n",
    "(13 ,'Nidhi',60000,  17),\n",
    "(14 ,'Priya',80000,  18),\n",
    "(15 ,'Mohit',45000,  18),\n",
    "(16 ,'Rajesh',90000, 10),\n",
    "(17 ,'Raman',55000, 16),\n",
    "(18 ,'Sam',65000,   17),\n",
    "(15 ,'Mohit',45000,  18),\n",
    "(13 ,'Nidhi',60000,  17),      \n",
    "(14 ,'Priya',90000,  18),  \n",
    "(18 ,'Sam',65000,   17)\n",
    "     ]\n",
    "\n",
    "schema = \"id integer, Name string, sal string, mngr_id integer\"\n",
    "\n",
    "leet_code_data = [\n",
    "    (1, 'Will', None),\n",
    "    (2, 'Jane', None),\n",
    "    (3, 'Alex', 2),\n",
    "    (4, 'Bill', None),\n",
    "    (5, 'Zack', 1),\n",
    "    (6, 'Mark', 2)\n",
    "]"
   ]
  },
  {
   "cell_type": "code",
   "execution_count": 10,
   "metadata": {},
   "outputs": [],
   "source": [
    "df = spark.createDataFrame(data=data,schema = schema)"
   ]
  },
  {
   "cell_type": "code",
   "execution_count": 11,
   "metadata": {},
   "outputs": [
    {
     "name": "stdout",
     "output_type": "stream",
     "text": [
      "+---+------+-----+-------+\n",
      "| id|  Name|  sal|mngr_id|\n",
      "+---+------+-----+-------+\n",
      "| 10|  Anil|50000|     18|\n",
      "| 11| Vikas|75000|     16|\n",
      "| 12| Nisha|40000|     18|\n",
      "| 13| Nidhi|60000|     17|\n",
      "| 14| Priya|80000|     18|\n",
      "| 15| Mohit|45000|     18|\n",
      "| 16|Rajesh|90000|     10|\n",
      "| 17| Raman|55000|     16|\n",
      "| 18|   Sam|65000|     17|\n",
      "| 15| Mohit|45000|     18|\n",
      "| 13| Nidhi|60000|     17|\n",
      "| 14| Priya|90000|     18|\n",
      "| 18|   Sam|65000|     17|\n",
      "+---+------+-----+-------+\n",
      "\n"
     ]
    }
   ],
   "source": [
    "df.show()"
   ]
  },
  {
   "cell_type": "code",
   "execution_count": 13,
   "metadata": {},
   "outputs": [
    {
     "name": "stdout",
     "output_type": "stream",
     "text": [
      "+---+------+-----+-------+\n",
      "| id|  Name|  sal|mngr_id|\n",
      "+---+------+-----+-------+\n",
      "| 10|  Anil|50000|     18|\n",
      "| 11| Vikas|75000|     16|\n",
      "| 12| Nisha|40000|     18|\n",
      "| 15| Mohit|45000|     18|\n",
      "| 13| Nidhi|60000|     17|\n",
      "| 14| Priya|80000|     18|\n",
      "| 17| Raman|55000|     16|\n",
      "| 18|   Sam|65000|     17|\n",
      "| 16|Rajesh|90000|     10|\n",
      "| 14| Priya|90000|     18|\n",
      "+---+------+-----+-------+\n",
      "\n"
     ]
    }
   ],
   "source": [
    "df.dropDuplicates().show()"
   ]
  },
  {
   "cell_type": "code",
   "execution_count": 14,
   "metadata": {},
   "outputs": [
    {
     "name": "stdout",
     "output_type": "stream",
     "text": [
      "+---+------+\n",
      "| id|  name|\n",
      "+---+------+\n",
      "| 11| Vikas|\n",
      "| 10|  Anil|\n",
      "| 12| Nisha|\n",
      "| 14| Priya|\n",
      "| 15| Mohit|\n",
      "| 13| Nidhi|\n",
      "| 16|Rajesh|\n",
      "| 18|   Sam|\n",
      "| 17| Raman|\n",
      "+---+------+\n",
      "\n"
     ]
    }
   ],
   "source": [
    "df.select(\"id\",\"name\").distinct().show()"
   ]
  },
  {
   "cell_type": "markdown",
   "metadata": {},
   "source": [
    "Sorting"
   ]
  },
  {
   "cell_type": "code",
   "execution_count": 17,
   "metadata": {},
   "outputs": [
    {
     "name": "stdout",
     "output_type": "stream",
     "text": [
      "+---+------+-----+-------+\n",
      "| id|  Name|  sal|mngr_id|\n",
      "+---+------+-----+-------+\n",
      "| 12| Nisha|40000|     18|\n",
      "| 15| Mohit|45000|     18|\n",
      "| 15| Mohit|45000|     18|\n",
      "| 10|  Anil|50000|     18|\n",
      "| 17| Raman|55000|     16|\n",
      "| 13| Nidhi|60000|     17|\n",
      "| 13| Nidhi|60000|     17|\n",
      "| 18|   Sam|65000|     17|\n",
      "| 18|   Sam|65000|     17|\n",
      "| 11| Vikas|75000|     16|\n",
      "| 14| Priya|80000|     18|\n",
      "| 14| Priya|90000|     18|\n",
      "| 16|Rajesh|90000|     10|\n",
      "+---+------+-----+-------+\n",
      "\n"
     ]
    }
   ],
   "source": [
    "df.sort(col(\"sal\"),col(\"mngr_id\").desc()).show()"
   ]
  },
  {
   "cell_type": "markdown",
   "metadata": {},
   "source": [
    "Leetcode Question 584. Find Customer Referee"
   ]
  },
  {
   "cell_type": "code",
   "execution_count": 19,
   "metadata": {},
   "outputs": [],
   "source": [
    "columns = \"id integer,name string, referee_id integer\"\n",
    "df2 = spark.createDataFrame(data = leet_code_data, schema = columns)"
   ]
  },
  {
   "cell_type": "code",
   "execution_count": 20,
   "metadata": {},
   "outputs": [
    {
     "name": "stdout",
     "output_type": "stream",
     "text": [
      "+---+----+----------+\n",
      "| id|name|referee_id|\n",
      "+---+----+----------+\n",
      "|  1|Will|      NULL|\n",
      "|  2|Jane|      NULL|\n",
      "|  3|Alex|         2|\n",
      "|  4|Bill|      NULL|\n",
      "|  5|Zack|         1|\n",
      "|  6|Mark|         2|\n",
      "+---+----+----------+\n",
      "\n"
     ]
    }
   ],
   "source": [
    "df2.show()"
   ]
  },
  {
   "cell_type": "code",
   "execution_count": 25,
   "metadata": {},
   "outputs": [
    {
     "name": "stdout",
     "output_type": "stream",
     "text": [
      "+----+\n",
      "|name|\n",
      "+----+\n",
      "|Will|\n",
      "|Jane|\n",
      "|Bill|\n",
      "|Zack|\n",
      "+----+\n",
      "\n"
     ]
    }
   ],
   "source": [
    "df2.select(\"name\").filter((col(\"referee_id\")!=2) | (col(\"referee_id\").isNull())).show()"
   ]
  },
  {
   "cell_type": "code",
   "execution_count": null,
   "metadata": {},
   "outputs": [],
   "source": []
  }
 ],
 "metadata": {
  "kernelspec": {
   "display_name": "Python 3 (ipykernel)",
   "language": "python",
   "name": "python3"
  },
  "language_info": {
   "codemirror_mode": {
    "name": "ipython",
    "version": 3
   },
   "file_extension": ".py",
   "mimetype": "text/x-python",
   "name": "python",
   "nbconvert_exporter": "python",
   "pygments_lexer": "ipython3",
   "version": "3.11.6"
  }
 },
 "nbformat": 4,
 "nbformat_minor": 2
}
