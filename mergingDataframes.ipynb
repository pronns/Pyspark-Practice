{
 "cells": [
  {
   "cell_type": "markdown",
   "metadata": {},
   "source": [
    "Write a Pyspark program to report the first name, last name, city, and state of each person in the\n",
    "Person dataframe. If the address of a personId is not present in the Address dataframe,\n",
    "report null instead."
   ]
  },
  {
   "cell_type": "code",
   "execution_count": 7,
   "metadata": {},
   "outputs": [],
   "source": [
    "from pyspark.sql import SparkSession\n",
    "from pyspark.sql.types import StructType,StructField,IntegerType,StringType\n",
    "spark = SparkSession.builder.appName(\"Combine Two DF\").master(\"local\").getOrCreate()"
   ]
  },
  {
   "cell_type": "code",
   "execution_count": 8,
   "metadata": {},
   "outputs": [],
   "source": [
    "persons_schema = StructType([\n",
    "StructField(\"personId\", IntegerType(), True),\n",
    "StructField(\"lastName\", StringType(), True),\n",
    "StructField(\"firstName\", StringType(), True)\n",
    "])\n",
    "# Define schema for the 'addresses' table\n",
    "addresses_schema = StructType([\n",
    "StructField(\"addressId\", IntegerType(), True),\n",
    "StructField(\"personId\", IntegerType(), True),\n",
    "StructField(\"city\", StringType(), True),\n",
    "StructField(\"state\", StringType(), True)\n",
    "])\n",
    "persons_data = [\n",
    "(1, 'Wang', 'Allen'),\n",
    "(2, 'Alice', 'Bob')\n",
    "]\n",
    "# Define data for the 'addresses' table\n",
    "addresses_data = [\n",
    "(1, 2, 'New York City', 'New York'),\n",
    "(2, 3, 'Leetcode', 'California')\n",
    "]"
   ]
  },
  {
   "cell_type": "code",
   "execution_count": 11,
   "metadata": {},
   "outputs": [
    {
     "name": "stdout",
     "output_type": "stream",
     "text": [
      "+--------+--------+---------+\n",
      "|personId|lastName|firstName|\n",
      "+--------+--------+---------+\n",
      "|       1|    Wang|    Allen|\n",
      "|       2|   Alice|      Bob|\n",
      "+--------+--------+---------+\n",
      "\n",
      "+---------+--------+-------------+----------+\n",
      "|addressId|personId|         city|     state|\n",
      "+---------+--------+-------------+----------+\n",
      "|        1|       2|New York City|  New York|\n",
      "|        2|       3|     Leetcode|California|\n",
      "+---------+--------+-------------+----------+\n",
      "\n"
     ]
    }
   ],
   "source": [
    "person_df = spark.createDataFrame(persons_data,persons_schema)\n",
    "address_df = spark.createDataFrame(addresses_data,addresses_schema)\n",
    "\n",
    "person_df.show()\n",
    "address_df.show()"
   ]
  },
  {
   "cell_type": "code",
   "execution_count": 12,
   "metadata": {},
   "outputs": [
    {
     "name": "stdout",
     "output_type": "stream",
     "text": [
      "+---------+--------+-------------+--------+\n",
      "|firstName|lastName|         city|   state|\n",
      "+---------+--------+-------------+--------+\n",
      "|    Allen|    Wang|         NULL|    NULL|\n",
      "|      Bob|   Alice|New York City|New York|\n",
      "+---------+--------+-------------+--------+\n",
      "\n"
     ]
    }
   ],
   "source": [
    "person_df.join(address_df,person_df.personId == address_df.personId, \"left\")\\\n",
    ".select(\"firstName\", \"lastName\",\"city\",\"state\")\\\n",
    ".show()"
   ]
  },
  {
   "cell_type": "code",
   "execution_count": null,
   "metadata": {},
   "outputs": [],
   "source": []
  }
 ],
 "metadata": {
  "kernelspec": {
   "display_name": "Python 3 (ipykernel)",
   "language": "python",
   "name": "python3"
  },
  "language_info": {
   "codemirror_mode": {
    "name": "ipython",
    "version": 3
   },
   "file_extension": ".py",
   "mimetype": "text/x-python",
   "name": "python",
   "nbconvert_exporter": "python",
   "pygments_lexer": "ipython3",
   "version": "3.11.6"
  }
 },
 "nbformat": 4,
 "nbformat_minor": 2
}
