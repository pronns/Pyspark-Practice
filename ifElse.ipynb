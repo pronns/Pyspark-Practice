{
 "cells": [
  {
   "cell_type": "code",
   "execution_count": 1,
   "metadata": {},
   "outputs": [],
   "source": [
    "from pyspark.sql import SparkSession\n",
    "from pyspark.sql.functions import *\n",
    "from pyspark.sql.types import *"
   ]
  },
  {
   "cell_type": "code",
   "execution_count": 3,
   "metadata": {},
   "outputs": [],
   "source": [
    "spark = SparkSession.builder.appName(\"ifElse\").getOrCreate()"
   ]
  },
  {
   "cell_type": "code",
   "execution_count": 6,
   "metadata": {},
   "outputs": [],
   "source": [
    "df = spark.read.csv(\"/data/DigiDB_digimonlist.csv\", header=True, inferSchema=True)"
   ]
  },
  {
   "cell_type": "code",
   "execution_count": 9,
   "metadata": {},
   "outputs": [
    {
     "name": "stdout",
     "output_type": "stream",
     "text": [
      "+-----------+\n",
      "|      Stage|\n",
      "+-----------+\n",
      "|   Ultimate|\n",
      "|       Baby|\n",
      "|      Ultra|\n",
      "|     Rookie|\n",
      "|   Champion|\n",
      "|      Armor|\n",
      "|       Mega|\n",
      "|In-Training|\n",
      "+-----------+\n",
      "\n"
     ]
    }
   ],
   "source": [
    "df.select(\"Stage\").distinct().show()"
   ]
  },
  {
   "cell_type": "code",
   "execution_count": 13,
   "metadata": {},
   "outputs": [],
   "source": [
    "df_tier = df.withColumn(\"Tier\", when(col(\"Stage\").isin(\"In-Training\",\"Baby\",\"Rookie\"),\"Noobie\")\\\n",
    "              .when(col(\"Stage\").isin(\"Mega\",\"Armor\",\"Champion\"),\"Amateur\")\\\n",
    "                .when(col(\"Stage\").isin(\"Ultra\",\"Ultimate\"),\"Pro\")\\\n",
    "                .otherwise(\"No value\"))"
   ]
  },
  {
   "cell_type": "code",
   "execution_count": 14,
   "metadata": {},
   "outputs": [
    {
     "name": "stdout",
     "output_type": "stream",
     "text": [
      "+-------+\n",
      "|   Tier|\n",
      "+-------+\n",
      "|Amateur|\n",
      "|    Pro|\n",
      "| Noobie|\n",
      "+-------+\n",
      "\n"
     ]
    }
   ],
   "source": [
    "df_tier.select(\"Tier\").distinct().show()"
   ]
  },
  {
   "cell_type": "code",
   "execution_count": null,
   "metadata": {},
   "outputs": [],
   "source": []
  }
 ],
 "metadata": {
  "kernelspec": {
   "display_name": "Python 3 (ipykernel)",
   "language": "python",
   "name": "python3"
  },
  "language_info": {
   "codemirror_mode": {
    "name": "ipython",
    "version": 3
   },
   "file_extension": ".py",
   "mimetype": "text/x-python",
   "name": "python",
   "nbconvert_exporter": "python",
   "pygments_lexer": "ipython3",
   "version": "3.11.6"
  }
 },
 "nbformat": 4,
 "nbformat_minor": 2
}
