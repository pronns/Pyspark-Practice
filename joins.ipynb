{
 "cells": [
  {
   "cell_type": "code",
   "execution_count": 1,
   "metadata": {},
   "outputs": [],
   "source": [
    "from pyspark.sql import SparkSession\n",
    "from pyspark.sql.functions import *\n",
    "from pyspark.sql.types import *"
   ]
  },
  {
   "cell_type": "code",
   "execution_count": 2,
   "metadata": {},
   "outputs": [],
   "source": [
    "spark = SparkSession.builder.appName(\"Joins\").getOrCreate()"
   ]
  },
  {
   "cell_type": "code",
   "execution_count": 3,
   "metadata": {},
   "outputs": [],
   "source": [
    "df1 = spark.read.csv(\"/data/DigiDB_digimonlist.csv\", header=True, inferSchema=True)\n",
    "df2 = spark.read.csv(\"/data/DigiDB_movelist.csv\", header=True, inferSchema=True)"
   ]
  },
  {
   "cell_type": "code",
   "execution_count": 4,
   "metadata": {},
   "outputs": [
    {
     "name": "stdout",
     "output_type": "stream",
     "text": [
      "+------+------------+-----------+-------+---------+------+-----------+--------+-------+--------+--------+--------+--------+\n",
      "|Number|     Digimon|      Stage|   Type|Attribute|Memory|Equip Slots|Lv 50 HP|Lv50 SP|Lv50 Atk|Lv50 Def|Lv50 Int|Lv50 Spd|\n",
      "+------+------------+-----------+-------+---------+------+-----------+--------+-------+--------+--------+--------+--------+\n",
      "|     1|     Kuramon|       Baby|   Free|  Neutral|     2|          0|     590|     77|      79|      69|      68|      95|\n",
      "|     2|     Pabumon|       Baby|   Free|  Neutral|     2|          0|     950|     62|      76|      76|      69|      68|\n",
      "|     3|     Punimon|       Baby|   Free|  Neutral|     2|          0|     870|     50|      97|      87|      50|      75|\n",
      "|     4|     Botamon|       Baby|   Free|  Neutral|     2|          0|     690|     68|      77|      95|      76|      61|\n",
      "|     5|     Poyomon|       Baby|   Free|  Neutral|     2|          0|     540|     98|      54|      59|      95|      86|\n",
      "|     6|     Koromon|In-Training|   Free|     Fire|     3|          0|     940|     52|     109|      93|      52|      76|\n",
      "|     7|     Tanemon|In-Training|   Free|    Plant|     3|          0|    1030|     64|      85|      82|      73|      69|\n",
      "|     8|    Tsunomon|In-Training|   Free|    Earth|     3|          0|     930|     54|     107|      92|      54|      76|\n",
      "|     9|    Tsumemon|In-Training|   Free|     Dark|     3|          0|     930|     64|     108|      64|      54|      93|\n",
      "|    10|     Tokomon|In-Training|   Free|  Neutral|     3|          0|     640|     86|      76|      74|      74|     103|\n",
      "|    11|    Nyaromon|In-Training|   Free|    Light|     3|          0|     540|    107|      54|      64|     103|      94|\n",
      "|    12|     Pagumon|In-Training|   Free|     Dark|     3|          0|     550|    103|      60|      63|     102|      93|\n",
      "|    13|     Yokomon|In-Training|   Free|    Plant|     3|          0|    1040|     64|      82|      82|      75|      69|\n",
      "|    14|     Bukamon|In-Training|   Free|    Water|     3|          0|     830|     93|      54|      74|     103|      69|\n",
      "|    15|     Motimon|In-Training|   Free|  Neutral|     3|          0|    1030|     63|      82|      81|      78|      69|\n",
      "|    16|    Wanyamon|In-Training|   Free|     Wind|     3|          0|     830|     82|      79|      75|      75|      82|\n",
      "|    17|      Agumon|     Rookie|Vaccine|     Fire|     5|          1|    1030|     59|     131|     103|      54|      86|\n",
      "|    18|Agumon (Blk)|     Rookie|  Virus|     Fire|     5|          1|    1020|     56|     124|     108|      56|      85|\n",
      "|    19|Armadillomon|     Rookie|   Free|    Earth|     4|          1|    1160|     85|      67|     111|      65|      72|\n",
      "|    20|      Impmon|     Rookie|  Virus|     Dark|     5|          1|     530|    114|      83|      65|     114|     102|\n",
      "+------+------------+-----------+-------+---------+------+-----------+--------+-------+--------+--------+--------+--------+\n",
      "only showing top 20 rows\n",
      "\n"
     ]
    }
   ],
   "source": [
    "df1.show()"
   ]
  },
  {
   "cell_type": "code",
   "execution_count": 5,
   "metadata": {},
   "outputs": [
    {
     "name": "stdout",
     "output_type": "stream",
     "text": [
      "+---------------+-------+--------+-----+---------+-----------+--------------------+\n",
      "|           Move|SP Cost|    Type|Power|Attribute|Inheritable|         Description|\n",
      "+---------------+-------+--------+-----+---------+-----------+--------------------+\n",
      "|  Wolkenapalm I|      3|Physical|   65|     Fire|        Yes|Physical attack, ...|\n",
      "| Wolkenapalm II|      6|Physical|   85|     Fire|        Yes|Physical attack, ...|\n",
      "|Wolkenapalm III|      9|Physical|  105|     Fire|        Yes|Physical attack, ...|\n",
      "|  Burst Flame I|      3|   Magic|   55|     Fire|        Yes|Magic attack, 55 ...|\n",
      "| Burst Flame II|      6|   Magic|   75|     Fire|        Yes|Magic attack, 75 ...|\n",
      "|Burst Flame III|      9|   Magic|   95|     Fire|        Yes|Magic attack, 95 ...|\n",
      "|  Meteor Fall I|      4|Physical|   30|     Fire|        Yes|Physical attack, ...|\n",
      "| Meteor Fall II|      7|Physical|   45|     Fire|        Yes|Physical attack, ...|\n",
      "|Meteor Fall III|     10|Physical|   75|     Fire|        Yes|Physical attack, ...|\n",
      "|     Panic Wisp|     10|   Magic|   30|     Fire|        Yes|Magic attack, 30 ...|\n",
      "|  Ice Archery I|      3|Physical|   65|    Water|        Yes|Physical attack, ...|\n",
      "| Ice Archery II|      6|Physical|   85|    Water|        Yes|Physical attack, ...|\n",
      "|Ice Archery III|      9|Physical|  105|    Water|        Yes|Physical attack, ...|\n",
      "|  Hydro Water I|      3|   Magic|   55|    Water|        Yes|Magic attack, 55 ...|\n",
      "| Hydro Water II|      6|   Magic|   75|    Water|        Yes|Magic attack, 75 ...|\n",
      "|Hydro Water III|      9|   Magic|   95|    Water|        Yes|Magic attack, 95 ...|\n",
      "|   Ocean Wave I|      4|   Magic|   20|    Water|        Yes|Magic attack, 20 ...|\n",
      "|  Ocean Wave II|      7|   Magic|   35|    Water|        Yes|Magic attack, 35 ...|\n",
      "| Ocean Wave III|     10|   Magic|   65|    Water|        Yes|Magic attack, 65 ...|\n",
      "|    Idle Bubble|     10|   Magic|   30|    Water|        Yes|Magic attack, 30 ...|\n",
      "+---------------+-------+--------+-----+---------+-----------+--------------------+\n",
      "only showing top 20 rows\n",
      "\n"
     ]
    }
   ],
   "source": [
    "df2.show()"
   ]
  },
  {
   "cell_type": "code",
   "execution_count": 9,
   "metadata": {},
   "outputs": [
    {
     "name": "stdout",
     "output_type": "stream",
     "text": [
      "+------+-------------------+--------+-------+---------+------+-----------+--------+-------+--------+--------+--------+--------+-------------+-------+--------+-----+---------+-----------+--------------------+\n",
      "|Number|            Digimon|   Stage|   Type|Attribute|Memory|Equip Slots|Lv 50 HP|Lv50 SP|Lv50 Atk|Lv50 Def|Lv50 Int|Lv50 Spd|         Move|SP Cost|    Type|Power|Attribute|Inheritable|         Description|\n",
      "+------+-------------------+--------+-------+---------+------+-----------+--------+-------+--------+--------+--------+--------+-------------+-------+--------+-----+---------+-----------+--------------------+\n",
      "|   246|    ShineGreymon BM|    Mega|Vaccine|     Fire|    22|          2|    1980|    114|     228|     104|      84|     168|Wolkenapalm I|      3|Physical|   65|     Fire|        Yes|Physical attack, ...|\n",
      "|   238|        Flamedramon|   Armor|   Free|     Fire|     8|          3|    1130|     93|     119|      99|      89|     138|Wolkenapalm I|      3|Physical|   65|     Fire|        Yes|Physical attack, ...|\n",
      "|   214|           Hououmon|    Mega|Vaccine|     Fire|    18|          3|    1390|    173|      84|      99|     193|     158|Wolkenapalm I|      3|Physical|   65|     Fire|        Yes|Physical attack, ...|\n",
      "|   208|    BlackWarGreymon|    Mega|  Virus|     Fire|    20|          2|    1730|     93|     183|     178|      89|     140|Wolkenapalm I|      3|Physical|   65|     Fire|        Yes|Physical attack, ...|\n",
      "|   179|          Gankoomon|    Mega|   Data|     Fire|    22|          1|    2080|     90|     188|     163|     109|     138|Wolkenapalm I|      3|Physical|   65|     Fire|        Yes|Physical attack, ...|\n",
      "|   177|            Gaiomon|    Mega|  Virus|     Fire|    18|          3|    1630|     99|     203|     129|      94|     158|Wolkenapalm I|      3|Physical|   65|     Fire|        Yes|Physical attack, ...|\n",
      "|   174|         WarGreymon|    Mega|Vaccine|     Fire|    20|          2|    1630|     98|     193|     163|      99|     140|Wolkenapalm I|      3|Physical|   65|     Fire|        Yes|Physical attack, ...|\n",
      "|   170|  Imperialdramon DM|    Mega|   Free|     Fire|    20|          2|    1730|    143|     139|     139|     139|     148|Wolkenapalm I|      3|Physical|   65|     Fire|        Yes|Physical attack, ...|\n",
      "|   158|        RizeGreymon|Ultimate|Vaccine|     Fire|    14|          1|    1530|     94|     178|     109|      69|     143|Wolkenapalm I|      3|Physical|   65|     Fire|        Yes|Physical attack, ...|\n",
      "|   153|MetalGreymon (Blue)|Ultimate|  Virus|     Fire|    14|          1|    1670|     84|     173|     143|      69|     110|Wolkenapalm I|      3|Physical|   65|     Fire|        Yes|Physical attack, ...|\n",
      "|   152|       MetalGreymon|Ultimate|Vaccine|     Fire|    14|          1|    1530|     84|     168|     148|      80|     113|Wolkenapalm I|      3|Physical|   65|     Fire|        Yes|Physical attack, ...|\n",
      "|   151|        WarGrowlmon|Ultimate|  Virus|     Fire|    14|          1|    1430|     84|     178|     138|      87|     116|Wolkenapalm I|      3|Physical|   65|     Fire|        Yes|Physical attack, ...|\n",
      "|   143|        BlueMeramon|Ultimate|  Virus|     Fire|    12|          2|    1140|    109|     148|      94|     133|     119|Wolkenapalm I|      3|Physical|   65|     Fire|        Yes|Physical attack, ...|\n",
      "|   135|        DoruGreymon|Ultimate|   Data|     Fire|    14|          1|    1480|     84|     161|     153|      84|     116|Wolkenapalm I|      3|Physical|   65|     Fire|        Yes|Physical attack, ...|\n",
      "|   133|       SkullMeramon|Ultimate|   Data|     Fire|    12|          2|    1530|     79|     183|     133|      70|     113|Wolkenapalm I|      3|Physical|   65|     Fire|        Yes|Physical attack, ...|\n",
      "|   119|          Garudamon|Ultimate|Vaccine|     Fire|    12|          2|    1040|    123|     124|     109|     129|     143|Wolkenapalm I|      3|Physical|   65|     Fire|        Yes|Physical attack, ...|\n",
      "|   104|            Meramon|Champion|   Data|     Fire|     6|          2|    1130|     69|     138|     113|      79|      99|Wolkenapalm I|      3|Physical|   65|     Fire|        Yes|Physical attack, ...|\n",
      "|    97|          Birdramon|Champion|Vaccine|     Fire|     8|          1|     940|    113|      94|      84|     109|     128|Wolkenapalm I|      3|Physical|   65|     Fire|        Yes|Physical attack, ...|\n",
      "|    90|         Tyrannomon|Champion|   Data|     Fire|     6|          2|    1230|     59|     148|     125|      59|      97|Wolkenapalm I|      3|Physical|   65|     Fire|        Yes|Physical attack, ...|\n",
      "|    84|         GeoGreymon|Champion|Vaccine|     Fire|     8|          1|    1330|     89|     143|      84|      64|     118|Wolkenapalm I|      3|Physical|   65|     Fire|        Yes|Physical attack, ...|\n",
      "+------+-------------------+--------+-------+---------+------+-----------+--------+-------+--------+--------+--------+--------+-------------+-------+--------+-----+---------+-----------+--------------------+\n",
      "only showing top 20 rows\n",
      "\n"
     ]
    }
   ],
   "source": [
    "df1.join(df2,df1[\"Attribute\"] == df2[\"Attribute\"], \"inner\").show()"
   ]
  },
  {
   "cell_type": "code",
   "execution_count": null,
   "metadata": {},
   "outputs": [],
   "source": []
  }
 ],
 "metadata": {
  "kernelspec": {
   "display_name": "Python 3 (ipykernel)",
   "language": "python",
   "name": "python3"
  },
  "language_info": {
   "codemirror_mode": {
    "name": "ipython",
    "version": 3
   },
   "file_extension": ".py",
   "mimetype": "text/x-python",
   "name": "python",
   "nbconvert_exporter": "python",
   "pygments_lexer": "ipython3",
   "version": "3.11.6"
  }
 },
 "nbformat": 4,
 "nbformat_minor": 2
}
