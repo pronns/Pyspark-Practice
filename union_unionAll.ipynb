{
 "cells": [
  {
   "cell_type": "code",
   "execution_count": 1,
   "metadata": {},
   "outputs": [],
   "source": [
    "from pyspark.sql import SparkSession\n",
    "from pyspark.sql.functions import *\n",
    "from pyspark.sql.types import *\n"
   ]
  },
  {
   "cell_type": "code",
   "execution_count": 2,
   "metadata": {},
   "outputs": [],
   "source": [
    "spark = SparkSession.builder.appName(\"Union\").getOrCreate()\n"
   ]
  },
  {
   "cell_type": "code",
   "execution_count": 3,
   "metadata": {},
   "outputs": [],
   "source": [
    "df1 = spark.read.csv(\"/data/DigiDB_digimonlist.csv\", header=True, inferSchema=True)"
   ]
  },
  {
   "cell_type": "code",
   "execution_count": 7,
   "metadata": {},
   "outputs": [],
   "source": [
    "df2 = spark.read.csv(\"/data/DigiDB_movelist.csv\", header=True, inferSchema=True)"
   ]
  },
  {
   "cell_type": "code",
   "execution_count": 8,
   "metadata": {},
   "outputs": [
    {
     "name": "stdout",
     "output_type": "stream",
     "text": [
      "+------+------------+-----------+-------+---------+------+-----------+--------+-------+--------+--------+--------+--------+\n",
      "|Number|     Digimon|      Stage|   Type|Attribute|Memory|Equip Slots|Lv 50 HP|Lv50 SP|Lv50 Atk|Lv50 Def|Lv50 Int|Lv50 Spd|\n",
      "+------+------------+-----------+-------+---------+------+-----------+--------+-------+--------+--------+--------+--------+\n",
      "|     1|     Kuramon|       Baby|   Free|  Neutral|     2|          0|     590|     77|      79|      69|      68|      95|\n",
      "|     2|     Pabumon|       Baby|   Free|  Neutral|     2|          0|     950|     62|      76|      76|      69|      68|\n",
      "|     3|     Punimon|       Baby|   Free|  Neutral|     2|          0|     870|     50|      97|      87|      50|      75|\n",
      "|     4|     Botamon|       Baby|   Free|  Neutral|     2|          0|     690|     68|      77|      95|      76|      61|\n",
      "|     5|     Poyomon|       Baby|   Free|  Neutral|     2|          0|     540|     98|      54|      59|      95|      86|\n",
      "|     6|     Koromon|In-Training|   Free|     Fire|     3|          0|     940|     52|     109|      93|      52|      76|\n",
      "|     7|     Tanemon|In-Training|   Free|    Plant|     3|          0|    1030|     64|      85|      82|      73|      69|\n",
      "|     8|    Tsunomon|In-Training|   Free|    Earth|     3|          0|     930|     54|     107|      92|      54|      76|\n",
      "|     9|    Tsumemon|In-Training|   Free|     Dark|     3|          0|     930|     64|     108|      64|      54|      93|\n",
      "|    10|     Tokomon|In-Training|   Free|  Neutral|     3|          0|     640|     86|      76|      74|      74|     103|\n",
      "|    11|    Nyaromon|In-Training|   Free|    Light|     3|          0|     540|    107|      54|      64|     103|      94|\n",
      "|    12|     Pagumon|In-Training|   Free|     Dark|     3|          0|     550|    103|      60|      63|     102|      93|\n",
      "|    13|     Yokomon|In-Training|   Free|    Plant|     3|          0|    1040|     64|      82|      82|      75|      69|\n",
      "|    14|     Bukamon|In-Training|   Free|    Water|     3|          0|     830|     93|      54|      74|     103|      69|\n",
      "|    15|     Motimon|In-Training|   Free|  Neutral|     3|          0|    1030|     63|      82|      81|      78|      69|\n",
      "|    16|    Wanyamon|In-Training|   Free|     Wind|     3|          0|     830|     82|      79|      75|      75|      82|\n",
      "|    17|      Agumon|     Rookie|Vaccine|     Fire|     5|          1|    1030|     59|     131|     103|      54|      86|\n",
      "|    18|Agumon (Blk)|     Rookie|  Virus|     Fire|     5|          1|    1020|     56|     124|     108|      56|      85|\n",
      "|    19|Armadillomon|     Rookie|   Free|    Earth|     4|          1|    1160|     85|      67|     111|      65|      72|\n",
      "|    20|      Impmon|     Rookie|  Virus|     Dark|     5|          1|     530|    114|      83|      65|     114|     102|\n",
      "+------+------------+-----------+-------+---------+------+-----------+--------+-------+--------+--------+--------+--------+\n",
      "only showing top 20 rows\n",
      "\n"
     ]
    }
   ],
   "source": [
    "df1.show()"
   ]
  },
  {
   "cell_type": "code",
   "execution_count": 9,
   "metadata": {},
   "outputs": [
    {
     "name": "stdout",
     "output_type": "stream",
     "text": [
      "+---------------+-------+--------+-----+---------+-----------+--------------------+\n",
      "|           Move|SP Cost|    Type|Power|Attribute|Inheritable|         Description|\n",
      "+---------------+-------+--------+-----+---------+-----------+--------------------+\n",
      "|  Wolkenapalm I|      3|Physical|   65|     Fire|        Yes|Physical attack, ...|\n",
      "| Wolkenapalm II|      6|Physical|   85|     Fire|        Yes|Physical attack, ...|\n",
      "|Wolkenapalm III|      9|Physical|  105|     Fire|        Yes|Physical attack, ...|\n",
      "|  Burst Flame I|      3|   Magic|   55|     Fire|        Yes|Magic attack, 55 ...|\n",
      "| Burst Flame II|      6|   Magic|   75|     Fire|        Yes|Magic attack, 75 ...|\n",
      "|Burst Flame III|      9|   Magic|   95|     Fire|        Yes|Magic attack, 95 ...|\n",
      "|  Meteor Fall I|      4|Physical|   30|     Fire|        Yes|Physical attack, ...|\n",
      "| Meteor Fall II|      7|Physical|   45|     Fire|        Yes|Physical attack, ...|\n",
      "|Meteor Fall III|     10|Physical|   75|     Fire|        Yes|Physical attack, ...|\n",
      "|     Panic Wisp|     10|   Magic|   30|     Fire|        Yes|Magic attack, 30 ...|\n",
      "|  Ice Archery I|      3|Physical|   65|    Water|        Yes|Physical attack, ...|\n",
      "| Ice Archery II|      6|Physical|   85|    Water|        Yes|Physical attack, ...|\n",
      "|Ice Archery III|      9|Physical|  105|    Water|        Yes|Physical attack, ...|\n",
      "|  Hydro Water I|      3|   Magic|   55|    Water|        Yes|Magic attack, 55 ...|\n",
      "| Hydro Water II|      6|   Magic|   75|    Water|        Yes|Magic attack, 75 ...|\n",
      "|Hydro Water III|      9|   Magic|   95|    Water|        Yes|Magic attack, 95 ...|\n",
      "|   Ocean Wave I|      4|   Magic|   20|    Water|        Yes|Magic attack, 20 ...|\n",
      "|  Ocean Wave II|      7|   Magic|   35|    Water|        Yes|Magic attack, 35 ...|\n",
      "| Ocean Wave III|     10|   Magic|   65|    Water|        Yes|Magic attack, 65 ...|\n",
      "|    Idle Bubble|     10|   Magic|   30|    Water|        Yes|Magic attack, 30 ...|\n",
      "+---------------+-------+--------+-----+---------+-----------+--------------------+\n",
      "only showing top 20 rows\n",
      "\n"
     ]
    }
   ],
   "source": [
    "df2.show()"
   ]
  },
  {
   "cell_type": "code",
   "execution_count": 19,
   "metadata": {},
   "outputs": [],
   "source": [
    "df1_type = df1.select(\"Type\")"
   ]
  },
  {
   "cell_type": "code",
   "execution_count": 21,
   "metadata": {},
   "outputs": [
    {
     "name": "stdout",
     "output_type": "stream",
     "text": [
      "+-------+\n",
      "|   Type|\n",
      "+-------+\n",
      "|   Free|\n",
      "|   Free|\n",
      "|   Free|\n",
      "|   Free|\n",
      "|   Free|\n",
      "|   Free|\n",
      "|   Free|\n",
      "|   Free|\n",
      "|   Free|\n",
      "|   Free|\n",
      "|   Free|\n",
      "|   Free|\n",
      "|   Free|\n",
      "|   Free|\n",
      "|   Free|\n",
      "|   Free|\n",
      "|Vaccine|\n",
      "|  Virus|\n",
      "|   Free|\n",
      "|  Virus|\n",
      "+-------+\n",
      "only showing top 20 rows\n",
      "\n"
     ]
    }
   ],
   "source": [
    "df1_type.show()"
   ]
  },
  {
   "cell_type": "code",
   "execution_count": 29,
   "metadata": {},
   "outputs": [],
   "source": [
    "df2_type = df2.select(\"Type\")"
   ]
  },
  {
   "cell_type": "code",
   "execution_count": 33,
   "metadata": {},
   "outputs": [
    {
     "name": "stdout",
     "output_type": "stream",
     "text": [
      "+--------+\n",
      "|    Type|\n",
      "+--------+\n",
      "|Physical|\n",
      "|Physical|\n",
      "|Physical|\n",
      "|   Magic|\n",
      "|   Magic|\n",
      "|   Magic|\n",
      "|Physical|\n",
      "|Physical|\n",
      "|Physical|\n",
      "|   Magic|\n",
      "|Physical|\n",
      "|Physical|\n",
      "|Physical|\n",
      "|   Magic|\n",
      "|   Magic|\n",
      "|   Magic|\n",
      "|   Magic|\n",
      "|   Magic|\n",
      "|   Magic|\n",
      "|   Magic|\n",
      "+--------+\n",
      "only showing top 20 rows\n",
      "\n"
     ]
    }
   ],
   "source": [
    "df2_type.show()"
   ]
  },
  {
   "cell_type": "code",
   "execution_count": 39,
   "metadata": {},
   "outputs": [
    {
     "data": {
      "text/plain": [
       "636"
      ]
     },
     "execution_count": 39,
     "metadata": {},
     "output_type": "execute_result"
    }
   ],
   "source": [
    "df1_type.union(df2_type).count()"
   ]
  },
  {
   "cell_type": "code",
   "execution_count": 40,
   "metadata": {},
   "outputs": [
    {
     "data": {
      "text/plain": [
       "636"
      ]
     },
     "execution_count": 40,
     "metadata": {},
     "output_type": "execute_result"
    }
   ],
   "source": [
    "df1_type.unionAll(df2_type).count()"
   ]
  },
  {
   "cell_type": "code",
   "execution_count": 35,
   "metadata": {},
   "outputs": [
    {
     "name": "stdout",
     "output_type": "stream",
     "text": [
      "root\n",
      " |-- Type: string (nullable = true)\n",
      "\n"
     ]
    }
   ],
   "source": [
    "df1_type.printSchema()\n"
   ]
  },
  {
   "cell_type": "code",
   "execution_count": 36,
   "metadata": {},
   "outputs": [
    {
     "name": "stdout",
     "output_type": "stream",
     "text": [
      "root\n",
      " |-- Type: string (nullable = true)\n",
      "\n"
     ]
    }
   ],
   "source": [
    "df1_type.printSchema()\n"
   ]
  }
 ],
 "metadata": {
  "kernelspec": {
   "display_name": "Python 3 (ipykernel)",
   "language": "python",
   "name": "python3"
  },
  "language_info": {
   "codemirror_mode": {
    "name": "ipython",
    "version": 3
   },
   "file_extension": ".py",
   "mimetype": "text/x-python",
   "name": "python",
   "nbconvert_exporter": "python",
   "pygments_lexer": "ipython3",
   "version": "3.11.6"
  }
 },
 "nbformat": 4,
 "nbformat_minor": 2
}
